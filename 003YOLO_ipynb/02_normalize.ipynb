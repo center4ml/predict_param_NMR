{
 "cells": [
  {
   "cell_type": "markdown",
   "metadata": {},
   "source": [
    "## Calculation the mean and standard deviation of the generated spectra for normalizing  the spectra passed to the model"
   ]
  },
  {
   "cell_type": "code",
   "execution_count": 1,
   "metadata": {},
   "outputs": [],
   "source": [
    "import math\n",
    "import tensorflow as tf"
   ]
  },
  {
   "cell_type": "markdown",
   "metadata": {},
   "source": [
    "Ranges of parameters in units and constants used in experiment."
   ]
  },
  {
   "cell_type": "code",
   "execution_count": 2,
   "metadata": {},
   "outputs": [],
   "source": [
    "sp_min, sp_max = -10., 10.\n",
    "fr_min, fr_max = 0., 256.\n",
    "dc_min, dc_max = 0.1, 10.\n",
    "am_min, am_max = 0.1, 5.\n",
    "\n",
    "series = 20\n",
    "dwmin, dwmax = -10., 10."
   ]
  },
  {
   "cell_type": "markdown",
   "metadata": {},
   "source": [
    "Number of pixels along the speed and frequency dimension."
   ]
  },
  {
   "cell_type": "code",
   "execution_count": 3,
   "metadata": {},
   "outputs": [],
   "source": [
    "sp_pixels, fr_pixels = 256, 256"
   ]
  },
  {
   "cell_type": "markdown",
   "metadata": {},
   "source": [
    "Auxiliary arrays for generating spectrum in tensorflow."
   ]
  },
  {
   "cell_type": "code",
   "execution_count": 4,
   "metadata": {},
   "outputs": [],
   "source": [
    "t = tf.complex(tf.range(2 * fr_pixels, dtype = tf.float32) / fr_pixels / 2., 0.)\n",
    "a = tf.range(series, dtype = tf.float32)\n",
    "b = 2. * math.pi * \\\n",
    "    tf.complex(0., tf.range(dwmin, dwmax, (dwmax - dwmin) / sp_pixels, dtype = tf.float32))[:, None] * t"
   ]
  },
  {
   "cell_type": "markdown",
   "metadata": {},
   "source": [
    "Function to take peak parameters and returns the resulting spectrum."
   ]
  },
  {
   "cell_type": "code",
   "execution_count": 5,
   "metadata": {},
   "outputs": [],
   "source": [
    "def get(sp_values, fr_values, dc_values, am_values):\n",
    "    f = a[:, None] * sp_values + fr_values + fr_pixels / 2.\n",
    "    fid = tf.complex(am_values, 0.) * tf.exp(2. * math.pi * t[:, None, None] * (tf.complex(-dc_values, f))) * \\\n",
    "          tf.cast(tf.logical_and(0.8 * fr_pixels / 2. <= f, f <= 2. * fr_pixels - 0.8 * fr_pixels / 2.), \n",
    "                  tf.complex64)\n",
    "    fid = tf.reduce_sum(fid, 2)\n",
    "    fid = tf.concat([fid[: 1] / 2., fid[1:]], 0)\n",
    "    p = tf.exp(-b[:, :, None] * tf.complex(a, 0.)) * fid\n",
    "    return tf.math.real(tf.signal.fft(tf.reduce_sum(p, 2)))[:, fr_pixels // 2 : 2 * fr_pixels - fr_pixels // 2]"
   ]
  },
  {
   "cell_type": "markdown",
   "metadata": {},
   "source": [
    "Function to draw random peak parameters and yield the resulting spectrum."
   ]
  },
  {
   "cell_type": "code",
   "execution_count": 6,
   "metadata": {},
   "outputs": [],
   "source": [
    "def generate():\n",
    "    while True:\n",
    "        #Random number of peaks from 1 to 9\n",
    "        count = tf.random.uniform([], 1, 10, dtype = tf.int32)\n",
    "        #Random peak parameters in units used in experiment\n",
    "        sp_values = tf.random.uniform([count], sp_min, sp_max)\n",
    "        fr_values = tf.random.uniform([count], fr_min, fr_max)\n",
    "        dc_values = tf.random.uniform([count], dc_min, dc_max)\n",
    "        am_values = tf.random.uniform([count], am_min, am_max)\n",
    "        #Spectrum resulting from these parameters\n",
    "        spectrum = get(sp_values, fr_values, dc_values, am_values)\n",
    "        yield spectrum"
   ]
  },
  {
   "cell_type": "markdown",
   "metadata": {},
   "source": [
    "Batched dataset of spectra from function of generate."
   ]
  },
  {
   "cell_type": "code",
   "execution_count": 7,
   "metadata": {},
   "outputs": [],
   "source": [
    "dataset = tf.data.Dataset.from_generator(generate,\n",
    "                                         output_signature = tf.TensorSpec([sp_pixels, fr_pixels]))\n",
    "dataset = dataset.batch(4096)"
   ]
  },
  {
   "cell_type": "markdown",
   "metadata": {},
   "source": [
    "### Calculation the mean and standard deviation of the generated spectra"
   ]
  },
  {
   "cell_type": "code",
   "execution_count": 8,
   "metadata": {},
   "outputs": [
    {
     "name": "stdout",
     "output_type": "stream",
     "text": [
      "MEANspectrum: 179.778900\n",
      "STDspectrum: 215.897995\n"
     ]
    }
   ],
   "source": [
    "spectrum = next(iter(dataset))\n",
    "print(\"MEANspectrum: %4f\" %(tf.math.reduce_mean(spectrum).numpy()))\n",
    "print(\"STDspectrum: %4f\" %(tf.math.reduce_std(spectrum).numpy()))"
   ]
  }
 ],
 "metadata": {
  "kernelspec": {
   "display_name": "Python 3",
   "language": "python",
   "name": "python3"
  },
  "language_info": {
   "codemirror_mode": {
    "name": "ipython",
    "version": 3
   },
   "file_extension": ".py",
   "mimetype": "text/x-python",
   "name": "python",
   "nbconvert_exporter": "python",
   "pygments_lexer": "ipython3",
   "version": "3.8.5"
  }
 },
 "nbformat": 4,
 "nbformat_minor": 4
}
