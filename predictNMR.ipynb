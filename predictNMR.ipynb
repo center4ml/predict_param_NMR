{
 "cells": [
  {
   "cell_type": "code",
   "execution_count": 1,
   "metadata": {},
   "outputs": [],
   "source": [
    "import pandas as pd\n",
    "import numpy as np\n",
    "np.random.seed(0) \n",
    "\n",
    "from tensorflow.keras.models import Sequential\n",
    "from tensorflow.keras.layers import Dense, Dropout, Flatten\n",
    "from tensorflow.keras.layers import Conv2D, MaxPool2D\n",
    "from tensorflow.keras import backend as K\n",
    "\n",
    "from tensorflow.keras.optimizers import Adam\n",
    "\n",
    "from sklearn.metrics import mean_absolute_error\n",
    "\n",
    "from sklearn.model_selection import train_test_split\n",
    "\n",
    "import glob\n",
    "import os\n",
    "import cv2\n",
    "from tqdm import tqdm\n",
    "\n",
    "\n",
    "import seaborn as sns\n",
    "import matplotlib.pyplot as plt\n",
    "%matplotlib inline"
   ]
  },
  {
   "cell_type": "markdown",
   "metadata": {},
   "source": [
    "### import data"
   ]
  },
  {
   "cell_type": "code",
   "execution_count": 2,
   "metadata": {},
   "outputs": [
    {
     "data": {
      "text/html": [
       "<div>\n",
       "<style scoped>\n",
       "    .dataframe tbody tr th:only-of-type {\n",
       "        vertical-align: middle;\n",
       "    }\n",
       "\n",
       "    .dataframe tbody tr th {\n",
       "        vertical-align: top;\n",
       "    }\n",
       "\n",
       "    .dataframe thead th {\n",
       "        text-align: right;\n",
       "    }\n",
       "</style>\n",
       "<table border=\"1\" class=\"dataframe\">\n",
       "  <thead>\n",
       "    <tr style=\"text-align: right;\">\n",
       "      <th></th>\n",
       "      <th>Amplitudes</th>\n",
       "      <th>Frequencies</th>\n",
       "      <th>Daping coeffitients</th>\n",
       "      <th>Speeds</th>\n",
       "      <th>SNR</th>\n",
       "    </tr>\n",
       "  </thead>\n",
       "  <tbody>\n",
       "    <tr>\n",
       "      <th>0</th>\n",
       "      <td>1.894824</td>\n",
       "      <td>229.127372</td>\n",
       "      <td>2.065563</td>\n",
       "      <td>3.139201</td>\n",
       "      <td>95.113244</td>\n",
       "    </tr>\n",
       "  </tbody>\n",
       "</table>\n",
       "</div>"
      ],
      "text/plain": [
       "   Amplitudes  Frequencies  Daping coeffitients    Speeds        SNR\n",
       "0    1.894824   229.127372             2.065563  3.139201  95.113244"
      ]
     },
     "execution_count": 2,
     "metadata": {},
     "output_type": "execute_result"
    }
   ],
   "source": [
    "df= pd.read_csv(\"test/output/output0.csv\")\n",
    "df.head()"
   ]
  },
  {
   "cell_type": "code",
   "execution_count": 3,
   "metadata": {},
   "outputs": [],
   "source": [
    "df = pd.concat(map(pd.read_csv, glob.glob(os.path.join('', \"test/output/output*.csv\"))))"
   ]
  },
  {
   "cell_type": "code",
   "execution_count": 4,
   "metadata": {},
   "outputs": [
    {
     "data": {
      "text/html": [
       "<div>\n",
       "<style scoped>\n",
       "    .dataframe tbody tr th:only-of-type {\n",
       "        vertical-align: middle;\n",
       "    }\n",
       "\n",
       "    .dataframe tbody tr th {\n",
       "        vertical-align: top;\n",
       "    }\n",
       "\n",
       "    .dataframe thead th {\n",
       "        text-align: right;\n",
       "    }\n",
       "</style>\n",
       "<table border=\"1\" class=\"dataframe\">\n",
       "  <thead>\n",
       "    <tr style=\"text-align: right;\">\n",
       "      <th></th>\n",
       "      <th>Amplitudes</th>\n",
       "      <th>Frequencies</th>\n",
       "      <th>Daping coeffitients</th>\n",
       "      <th>Speeds</th>\n",
       "      <th>SNR</th>\n",
       "    </tr>\n",
       "  </thead>\n",
       "  <tbody>\n",
       "    <tr>\n",
       "      <th>0</th>\n",
       "      <td>3.670712</td>\n",
       "      <td>213.277862</td>\n",
       "      <td>6.224857</td>\n",
       "      <td>-2.721940</td>\n",
       "      <td>14.291014</td>\n",
       "    </tr>\n",
       "    <tr>\n",
       "      <th>0</th>\n",
       "      <td>1.879941</td>\n",
       "      <td>163.226894</td>\n",
       "      <td>0.723691</td>\n",
       "      <td>7.404927</td>\n",
       "      <td>39.169301</td>\n",
       "    </tr>\n",
       "    <tr>\n",
       "      <th>0</th>\n",
       "      <td>3.948317</td>\n",
       "      <td>114.884776</td>\n",
       "      <td>6.203916</td>\n",
       "      <td>-2.328775</td>\n",
       "      <td>55.045094</td>\n",
       "    </tr>\n",
       "    <tr>\n",
       "      <th>0</th>\n",
       "      <td>2.680349</td>\n",
       "      <td>83.384335</td>\n",
       "      <td>1.240437</td>\n",
       "      <td>-5.460384</td>\n",
       "      <td>60.832520</td>\n",
       "    </tr>\n",
       "    <tr>\n",
       "      <th>0</th>\n",
       "      <td>2.375230</td>\n",
       "      <td>69.323893</td>\n",
       "      <td>5.489942</td>\n",
       "      <td>6.107269</td>\n",
       "      <td>61.373392</td>\n",
       "    </tr>\n",
       "    <tr>\n",
       "      <th>...</th>\n",
       "      <td>...</td>\n",
       "      <td>...</td>\n",
       "      <td>...</td>\n",
       "      <td>...</td>\n",
       "      <td>...</td>\n",
       "    </tr>\n",
       "    <tr>\n",
       "      <th>0</th>\n",
       "      <td>4.403836</td>\n",
       "      <td>18.868849</td>\n",
       "      <td>1.515863</td>\n",
       "      <td>-2.661488</td>\n",
       "      <td>54.076477</td>\n",
       "    </tr>\n",
       "    <tr>\n",
       "      <th>0</th>\n",
       "      <td>4.804255</td>\n",
       "      <td>35.105291</td>\n",
       "      <td>9.873786</td>\n",
       "      <td>-3.589260</td>\n",
       "      <td>72.599596</td>\n",
       "    </tr>\n",
       "    <tr>\n",
       "      <th>0</th>\n",
       "      <td>4.715750</td>\n",
       "      <td>91.366737</td>\n",
       "      <td>6.698049</td>\n",
       "      <td>-2.129933</td>\n",
       "      <td>73.884334</td>\n",
       "    </tr>\n",
       "    <tr>\n",
       "      <th>0</th>\n",
       "      <td>4.778039</td>\n",
       "      <td>137.075316</td>\n",
       "      <td>4.295846</td>\n",
       "      <td>1.079967</td>\n",
       "      <td>27.511666</td>\n",
       "    </tr>\n",
       "    <tr>\n",
       "      <th>0</th>\n",
       "      <td>4.594720</td>\n",
       "      <td>220.732024</td>\n",
       "      <td>5.884373</td>\n",
       "      <td>3.604342</td>\n",
       "      <td>70.691123</td>\n",
       "    </tr>\n",
       "  </tbody>\n",
       "</table>\n",
       "<p>100 rows × 5 columns</p>\n",
       "</div>"
      ],
      "text/plain": [
       "    Amplitudes  Frequencies  Daping coeffitients    Speeds        SNR\n",
       "0     3.670712   213.277862             6.224857 -2.721940  14.291014\n",
       "0     1.879941   163.226894             0.723691  7.404927  39.169301\n",
       "0     3.948317   114.884776             6.203916 -2.328775  55.045094\n",
       "0     2.680349    83.384335             1.240437 -5.460384  60.832520\n",
       "0     2.375230    69.323893             5.489942  6.107269  61.373392\n",
       "..         ...          ...                  ...       ...        ...\n",
       "0     4.403836    18.868849             1.515863 -2.661488  54.076477\n",
       "0     4.804255    35.105291             9.873786 -3.589260  72.599596\n",
       "0     4.715750    91.366737             6.698049 -2.129933  73.884334\n",
       "0     4.778039   137.075316             4.295846  1.079967  27.511666\n",
       "0     4.594720   220.732024             5.884373  3.604342  70.691123\n",
       "\n",
       "[100 rows x 5 columns]"
      ]
     },
     "execution_count": 4,
     "metadata": {},
     "output_type": "execute_result"
    }
   ],
   "source": [
    "df"
   ]
  },
  {
   "cell_type": "code",
   "execution_count": 6,
   "metadata": {},
   "outputs": [
    {
     "data": {
      "text/html": [
       "<div>\n",
       "<style scoped>\n",
       "    .dataframe tbody tr th:only-of-type {\n",
       "        vertical-align: middle;\n",
       "    }\n",
       "\n",
       "    .dataframe tbody tr th {\n",
       "        vertical-align: top;\n",
       "    }\n",
       "\n",
       "    .dataframe thead th {\n",
       "        text-align: right;\n",
       "    }\n",
       "</style>\n",
       "<table border=\"1\" class=\"dataframe\">\n",
       "  <thead>\n",
       "    <tr style=\"text-align: right;\">\n",
       "      <th></th>\n",
       "      <th>Amplitudes</th>\n",
       "      <th>Frequencies</th>\n",
       "      <th>Daping coeffitients</th>\n",
       "      <th>Speeds</th>\n",
       "    </tr>\n",
       "  </thead>\n",
       "  <tbody>\n",
       "    <tr>\n",
       "      <th>0</th>\n",
       "      <td>3.670712</td>\n",
       "      <td>213.277862</td>\n",
       "      <td>6.224857</td>\n",
       "      <td>-2.721940</td>\n",
       "    </tr>\n",
       "    <tr>\n",
       "      <th>0</th>\n",
       "      <td>1.879941</td>\n",
       "      <td>163.226894</td>\n",
       "      <td>0.723691</td>\n",
       "      <td>7.404927</td>\n",
       "    </tr>\n",
       "    <tr>\n",
       "      <th>0</th>\n",
       "      <td>3.948317</td>\n",
       "      <td>114.884776</td>\n",
       "      <td>6.203916</td>\n",
       "      <td>-2.328775</td>\n",
       "    </tr>\n",
       "    <tr>\n",
       "      <th>0</th>\n",
       "      <td>2.680349</td>\n",
       "      <td>83.384335</td>\n",
       "      <td>1.240437</td>\n",
       "      <td>-5.460384</td>\n",
       "    </tr>\n",
       "    <tr>\n",
       "      <th>0</th>\n",
       "      <td>2.375230</td>\n",
       "      <td>69.323893</td>\n",
       "      <td>5.489942</td>\n",
       "      <td>6.107269</td>\n",
       "    </tr>\n",
       "    <tr>\n",
       "      <th>...</th>\n",
       "      <td>...</td>\n",
       "      <td>...</td>\n",
       "      <td>...</td>\n",
       "      <td>...</td>\n",
       "    </tr>\n",
       "    <tr>\n",
       "      <th>0</th>\n",
       "      <td>4.403836</td>\n",
       "      <td>18.868849</td>\n",
       "      <td>1.515863</td>\n",
       "      <td>-2.661488</td>\n",
       "    </tr>\n",
       "    <tr>\n",
       "      <th>0</th>\n",
       "      <td>4.804255</td>\n",
       "      <td>35.105291</td>\n",
       "      <td>9.873786</td>\n",
       "      <td>-3.589260</td>\n",
       "    </tr>\n",
       "    <tr>\n",
       "      <th>0</th>\n",
       "      <td>4.715750</td>\n",
       "      <td>91.366737</td>\n",
       "      <td>6.698049</td>\n",
       "      <td>-2.129933</td>\n",
       "    </tr>\n",
       "    <tr>\n",
       "      <th>0</th>\n",
       "      <td>4.778039</td>\n",
       "      <td>137.075316</td>\n",
       "      <td>4.295846</td>\n",
       "      <td>1.079967</td>\n",
       "    </tr>\n",
       "    <tr>\n",
       "      <th>0</th>\n",
       "      <td>4.594720</td>\n",
       "      <td>220.732024</td>\n",
       "      <td>5.884373</td>\n",
       "      <td>3.604342</td>\n",
       "    </tr>\n",
       "  </tbody>\n",
       "</table>\n",
       "<p>100 rows × 4 columns</p>\n",
       "</div>"
      ],
      "text/plain": [
       "    Amplitudes  Frequencies  Daping coeffitients    Speeds\n",
       "0     3.670712   213.277862             6.224857 -2.721940\n",
       "0     1.879941   163.226894             0.723691  7.404927\n",
       "0     3.948317   114.884776             6.203916 -2.328775\n",
       "0     2.680349    83.384335             1.240437 -5.460384\n",
       "0     2.375230    69.323893             5.489942  6.107269\n",
       "..         ...          ...                  ...       ...\n",
       "0     4.403836    18.868849             1.515863 -2.661488\n",
       "0     4.804255    35.105291             9.873786 -3.589260\n",
       "0     4.715750    91.366737             6.698049 -2.129933\n",
       "0     4.778039   137.075316             4.295846  1.079967\n",
       "0     4.594720   220.732024             5.884373  3.604342\n",
       "\n",
       "[100 rows x 4 columns]"
      ]
     },
     "execution_count": 6,
     "metadata": {},
     "output_type": "execute_result"
    }
   ],
   "source": [
    "labels=df.iloc[:,:-1]\n",
    "labels"
   ]
  },
  {
   "cell_type": "code",
   "execution_count": 7,
   "metadata": {},
   "outputs": [
    {
     "data": {
      "text/html": [
       "<div>\n",
       "<style scoped>\n",
       "    .dataframe tbody tr th:only-of-type {\n",
       "        vertical-align: middle;\n",
       "    }\n",
       "\n",
       "    .dataframe tbody tr th {\n",
       "        vertical-align: top;\n",
       "    }\n",
       "\n",
       "    .dataframe thead th {\n",
       "        text-align: right;\n",
       "    }\n",
       "</style>\n",
       "<table border=\"1\" class=\"dataframe\">\n",
       "  <thead>\n",
       "    <tr style=\"text-align: right;\">\n",
       "      <th></th>\n",
       "      <th>Amplitudes</th>\n",
       "      <th>Frequencies</th>\n",
       "      <th>Daping coeffitients</th>\n",
       "      <th>Speeds</th>\n",
       "      <th>image_name</th>\n",
       "    </tr>\n",
       "  </thead>\n",
       "  <tbody>\n",
       "    <tr>\n",
       "      <th>0</th>\n",
       "      <td>3.670712</td>\n",
       "      <td>213.277862</td>\n",
       "      <td>6.224857</td>\n",
       "      <td>-2.721940</td>\n",
       "      <td>input0</td>\n",
       "    </tr>\n",
       "    <tr>\n",
       "      <th>0</th>\n",
       "      <td>1.879941</td>\n",
       "      <td>163.226894</td>\n",
       "      <td>0.723691</td>\n",
       "      <td>7.404927</td>\n",
       "      <td>input1</td>\n",
       "    </tr>\n",
       "    <tr>\n",
       "      <th>0</th>\n",
       "      <td>3.948317</td>\n",
       "      <td>114.884776</td>\n",
       "      <td>6.203916</td>\n",
       "      <td>-2.328775</td>\n",
       "      <td>input2</td>\n",
       "    </tr>\n",
       "    <tr>\n",
       "      <th>0</th>\n",
       "      <td>2.680349</td>\n",
       "      <td>83.384335</td>\n",
       "      <td>1.240437</td>\n",
       "      <td>-5.460384</td>\n",
       "      <td>input3</td>\n",
       "    </tr>\n",
       "    <tr>\n",
       "      <th>0</th>\n",
       "      <td>2.375230</td>\n",
       "      <td>69.323893</td>\n",
       "      <td>5.489942</td>\n",
       "      <td>6.107269</td>\n",
       "      <td>input4</td>\n",
       "    </tr>\n",
       "    <tr>\n",
       "      <th>...</th>\n",
       "      <td>...</td>\n",
       "      <td>...</td>\n",
       "      <td>...</td>\n",
       "      <td>...</td>\n",
       "      <td>...</td>\n",
       "    </tr>\n",
       "    <tr>\n",
       "      <th>0</th>\n",
       "      <td>4.403836</td>\n",
       "      <td>18.868849</td>\n",
       "      <td>1.515863</td>\n",
       "      <td>-2.661488</td>\n",
       "      <td>input95</td>\n",
       "    </tr>\n",
       "    <tr>\n",
       "      <th>0</th>\n",
       "      <td>4.804255</td>\n",
       "      <td>35.105291</td>\n",
       "      <td>9.873786</td>\n",
       "      <td>-3.589260</td>\n",
       "      <td>input96</td>\n",
       "    </tr>\n",
       "    <tr>\n",
       "      <th>0</th>\n",
       "      <td>4.715750</td>\n",
       "      <td>91.366737</td>\n",
       "      <td>6.698049</td>\n",
       "      <td>-2.129933</td>\n",
       "      <td>input97</td>\n",
       "    </tr>\n",
       "    <tr>\n",
       "      <th>0</th>\n",
       "      <td>4.778039</td>\n",
       "      <td>137.075316</td>\n",
       "      <td>4.295846</td>\n",
       "      <td>1.079967</td>\n",
       "      <td>input98</td>\n",
       "    </tr>\n",
       "    <tr>\n",
       "      <th>0</th>\n",
       "      <td>4.594720</td>\n",
       "      <td>220.732024</td>\n",
       "      <td>5.884373</td>\n",
       "      <td>3.604342</td>\n",
       "      <td>input99</td>\n",
       "    </tr>\n",
       "  </tbody>\n",
       "</table>\n",
       "<p>100 rows × 5 columns</p>\n",
       "</div>"
      ],
      "text/plain": [
       "    Amplitudes  Frequencies  Daping coeffitients    Speeds image_name\n",
       "0     3.670712   213.277862             6.224857 -2.721940     input0\n",
       "0     1.879941   163.226894             0.723691  7.404927     input1\n",
       "0     3.948317   114.884776             6.203916 -2.328775     input2\n",
       "0     2.680349    83.384335             1.240437 -5.460384     input3\n",
       "0     2.375230    69.323893             5.489942  6.107269     input4\n",
       "..         ...          ...                  ...       ...        ...\n",
       "0     4.403836    18.868849             1.515863 -2.661488    input95\n",
       "0     4.804255    35.105291             9.873786 -3.589260    input96\n",
       "0     4.715750    91.366737             6.698049 -2.129933    input97\n",
       "0     4.778039   137.075316             4.295846  1.079967    input98\n",
       "0     4.594720   220.732024             5.884373  3.604342    input99\n",
       "\n",
       "[100 rows x 5 columns]"
      ]
     },
     "execution_count": 7,
     "metadata": {},
     "output_type": "execute_result"
    }
   ],
   "source": [
    "labels['image_name']=[f\"input{x}\" for x in range(0,len(labels))]\n",
    "labels"
   ]
  },
  {
   "cell_type": "code",
   "execution_count": 8,
   "metadata": {},
   "outputs": [
    {
     "data": {
      "text/html": [
       "<div>\n",
       "<style scoped>\n",
       "    .dataframe tbody tr th:only-of-type {\n",
       "        vertical-align: middle;\n",
       "    }\n",
       "\n",
       "    .dataframe tbody tr th {\n",
       "        vertical-align: top;\n",
       "    }\n",
       "\n",
       "    .dataframe thead th {\n",
       "        text-align: right;\n",
       "    }\n",
       "</style>\n",
       "<table border=\"1\" class=\"dataframe\">\n",
       "  <thead>\n",
       "    <tr style=\"text-align: right;\">\n",
       "      <th></th>\n",
       "      <th>Amplitudes</th>\n",
       "      <th>Frequencies</th>\n",
       "      <th>Daping coeffitients</th>\n",
       "      <th>Speeds</th>\n",
       "    </tr>\n",
       "  </thead>\n",
       "  <tbody>\n",
       "    <tr>\n",
       "      <th>count</th>\n",
       "      <td>100.000000</td>\n",
       "      <td>100.000000</td>\n",
       "      <td>100.000000</td>\n",
       "      <td>100.000000</td>\n",
       "    </tr>\n",
       "    <tr>\n",
       "      <th>mean</th>\n",
       "      <td>2.491123</td>\n",
       "      <td>123.824120</td>\n",
       "      <td>4.891195</td>\n",
       "      <td>-0.320947</td>\n",
       "    </tr>\n",
       "    <tr>\n",
       "      <th>std</th>\n",
       "      <td>1.516537</td>\n",
       "      <td>68.432395</td>\n",
       "      <td>2.607755</td>\n",
       "      <td>4.776358</td>\n",
       "    </tr>\n",
       "    <tr>\n",
       "      <th>min</th>\n",
       "      <td>0.152405</td>\n",
       "      <td>17.777114</td>\n",
       "      <td>0.481182</td>\n",
       "      <td>-7.851334</td>\n",
       "    </tr>\n",
       "    <tr>\n",
       "      <th>25%</th>\n",
       "      <td>1.035943</td>\n",
       "      <td>62.571286</td>\n",
       "      <td>2.580401</td>\n",
       "      <td>-3.813275</td>\n",
       "    </tr>\n",
       "    <tr>\n",
       "      <th>50%</th>\n",
       "      <td>2.630638</td>\n",
       "      <td>120.850451</td>\n",
       "      <td>5.214697</td>\n",
       "      <td>-1.191793</td>\n",
       "    </tr>\n",
       "    <tr>\n",
       "      <th>75%</th>\n",
       "      <td>3.876328</td>\n",
       "      <td>183.038364</td>\n",
       "      <td>6.886415</td>\n",
       "      <td>3.592089</td>\n",
       "    </tr>\n",
       "    <tr>\n",
       "      <th>max</th>\n",
       "      <td>4.895953</td>\n",
       "      <td>236.906330</td>\n",
       "      <td>9.873786</td>\n",
       "      <td>7.976486</td>\n",
       "    </tr>\n",
       "  </tbody>\n",
       "</table>\n",
       "</div>"
      ],
      "text/plain": [
       "       Amplitudes  Frequencies  Daping coeffitients      Speeds\n",
       "count  100.000000   100.000000           100.000000  100.000000\n",
       "mean     2.491123   123.824120             4.891195   -0.320947\n",
       "std      1.516537    68.432395             2.607755    4.776358\n",
       "min      0.152405    17.777114             0.481182   -7.851334\n",
       "25%      1.035943    62.571286             2.580401   -3.813275\n",
       "50%      2.630638   120.850451             5.214697   -1.191793\n",
       "75%      3.876328   183.038364             6.886415    3.592089\n",
       "max      4.895953   236.906330             9.873786    7.976486"
      ]
     },
     "execution_count": 8,
     "metadata": {},
     "output_type": "execute_result"
    }
   ],
   "source": [
    "labels.describe()"
   ]
  },
  {
   "cell_type": "code",
   "execution_count": 9,
   "metadata": {},
   "outputs": [
    {
     "data": {
      "text/plain": [
       "array([[<AxesSubplot:title={'center':'Amplitudes'}>,\n",
       "        <AxesSubplot:title={'center':'Frequencies'}>],\n",
       "       [<AxesSubplot:title={'center':'Daping coeffitients'}>,\n",
       "        <AxesSubplot:title={'center':'Speeds'}>]], dtype=object)"
      ]
     },
     "execution_count": 9,
     "metadata": {},
     "output_type": "execute_result"
    },
    {
     "data": {
      "image/png": "[encoded data removed]",
      "text/plain": [
       "<Figure size 720x720 with 4 Axes>"
      ]
     },
     "metadata": {
      "needs_background": "light"
     },
     "output_type": "display_data"
    }
   ],
   "source": [
    "labels.hist(figsize=(10,10))"
   ]
  },
  {
   "cell_type": "markdown",
   "metadata": {},
   "source": [
    "### Generate data"
   ]
  },
  {
   "cell_type": "code",
   "execution_count": 10,
   "metadata": {},
   "outputs": [
    {
     "name": "stdout",
     "output_type": "stream",
     "text": [
      "fatal: docelowa ścieżka „Algorithm_of_peak_picking” już istnieje i nie jest pustym katalogiem.\r\n"
     ]
    }
   ],
   "source": [
    "!git clone https://github.com/DahanDaniel/Algorithm_of_peak_picking.git"
   ]
  },
  {
   "cell_type": "code",
   "execution_count": 11,
   "metadata": {},
   "outputs": [],
   "source": [
    "import sys\n",
    "sys.path.insert(0, 'Algorithm_of_peak_picking')"
   ]
  },
  {
   "cell_type": "code",
   "execution_count": 12,
   "metadata": {},
   "outputs": [
    {
     "name": "stdout",
     "output_type": "stream",
     "text": [
      "/home/anna_s/Ania/UW/projekty/NMR/predict_data/Algorithm_of_peak_picking\n",
      "Już aktualne.\n",
      "/home/anna_s/Ania/UW/projekty/NMR/predict_data\n"
     ]
    }
   ],
   "source": [
    "%cd Algorithm_of_peak_picking/\n",
    "!git pull\n",
    "%cd .."
   ]
  },
  {
   "cell_type": "code",
   "execution_count": 2,
   "metadata": {},
   "outputs": [],
   "source": [
    "import copy\n",
    "from sys import exit\n",
    "import os\n",
    "\n",
    "import numpy as np\n",
    "# from google.colab import files\n",
    "\n",
    "from Algorithm_of_peak_picking.RadonClass import *"
   ]
  },
  {
   "cell_type": "code",
   "execution_count": 153,
   "metadata": {},
   "outputs": [],
   "source": [
    "ITERATIONS = 100\n",
    "\n",
    "NO_SERIES  = 20\n",
    "RESOLUTION = 2**8 # number of points describing spectra\n",
    "\n",
    "DWMIN, DWMAX, DDW = -10, 10, .01 # Domain of rates of change\n",
    "\n",
    "MAX_NO_PEAKS = 1"
   ]
  },
  {
   "cell_type": "code",
   "execution_count": 87,
   "metadata": {},
   "outputs": [],
   "source": [
    "def create_random_data(max_no_peaks):\n",
    "    # Draw a random number of peaks between 1 and max_no_peaks.\n",
    "    N = np.random.randint(1, max_no_peaks+1)\n",
    "\n",
    "    # Randomize peaks' parameters.\n",
    "    amplitudes = np.random.uniform(.1, 5, N)\n",
    "    frequencies = np.random.uniform(10, RESOLUTION - 10, N)\n",
    "    damping_coeffs = np.random.uniform(0.1, 10, N)\n",
    "    speeds = np.random.uniform(-8, 8, N)\n",
    "\n",
    "    # Draw signal-to-noise ratio; set to 0 if no noise should be added.\n",
    "    snr = np.random.uniform(10, 100) # 0 # \n",
    "\n",
    "    params = Params(amplitudes,\n",
    "                    frequencies,\n",
    "                    damping_coeffs,\n",
    "                    speeds,\n",
    "                    NO_SERIES,\n",
    "                    RESOLUTION,\n",
    "                    snr)\n",
    "    \n",
    "    radon_instance = Radon(params, DWMIN, DWMAX, DDW, 'Params')\n",
    "\n",
    "    # Create input dataframe containing radon spectra of the input parameters.\n",
    "    # Columns represent the frequency dimention,\n",
    "    # rows represent the Radon (speeds) dimention.\n",
    "    input_array = radon_instance.complex_Radon.real\n",
    "\n",
    "    # Create output dataframe.\n",
    "    output_df = pd.DataFrame({\n",
    "        'Amplitudes': amplitudes,\n",
    "        'Frequencies': frequencies,\n",
    "        'Daping coeffitients': damping_coeffs,\n",
    "        'Speeds': speeds\n",
    "    })\n",
    "    # output_df['SNR'] = snr # not included in fitting\n",
    "\n",
    "    return input_array, output_df"
   ]
  },
  {
   "cell_type": "code",
   "execution_count": 16,
   "metadata": {},
   "outputs": [],
   "source": [
    "# def download_data():\n",
    "#     if not os.path.exists('data'):\n",
    "#         os.makedirs('data')\n",
    "#     for i in range(ITERATIONS):\n",
    "#         input_df, output_df = create_random_data(MAX_NO_PEAKS)\n",
    "#         input_df.to_csv('data/input%s.csv' % i, header=False, index=False)\n",
    "#         output_df.to_csv('data/output%s.csv' % i, header=False, index=False)\n",
    "#     files.download('data')"
   ]
  },
  {
   "cell_type": "code",
   "execution_count": 17,
   "metadata": {},
   "outputs": [],
   "source": [
    "# def download_data():\n",
    "#     if not os.path.exists('data'):\n",
    "#         os.makedirs('data')\n",
    "#     for i in range(ITERATIONS):\n",
    "#         input_df, output_df = create_random_data(MAX_NO_PEAKS)\n",
    "#         input_df.to_csv('data/input%s.csv' % i, header=False, index=False)\n",
    "#         output_df.to_csv('data/output%s.csv' % i, header=False, index=False)\n",
    "#     files.download('data')"
   ]
  },
  {
   "cell_type": "code",
   "execution_count": 18,
   "metadata": {},
   "outputs": [],
   "source": [
    "# def generate_training_set():\n",
    "#     X_train = []\n",
    "#     y_train = []\n",
    "#     for i in range(ITERATIONS):\n",
    "#         input_array, output_df = create_random_data(MAX_NO_PEAKS)\n",
    "#         X_train.append(input_array)\n",
    "#         y_train.append(output_df)\n",
    "#     df = pd.DataFrame({\"x\": X_train, \"y\": y_train})\n",
    "#     return df"
   ]
  },
  {
   "cell_type": "code",
   "execution_count": 52,
   "metadata": {},
   "outputs": [],
   "source": [
    "# def generate_training_set():\n",
    "#     X_train = []\n",
    "#     y_train = []\n",
    "#     for i in range(ITERATIONS):\n",
    "#         input_array, output_df = create_random_data(MAX_NO_PEAKS)\n",
    "#         X_train.append(input_array)\n",
    "#         y_train.append(output_df)\n",
    "#     df_X = pd.DataFrame({\"x\": X_train})\n",
    "#     df_y = pd.DataFrame({\"y\": y_train})\n",
    "#     return df_X, df_y"
   ]
  },
  {
   "cell_type": "code",
   "execution_count": 154,
   "metadata": {},
   "outputs": [],
   "source": [
    "def generate_dataset():\n",
    "    X_ds = []\n",
    "    df_y = pd.DataFrame()\n",
    "    for i in range(ITERATIONS):\n",
    "        input_array, output_df = create_random_data(MAX_NO_PEAKS)\n",
    "        X_ds.append(input_array)\n",
    "        df_y=df_y.append(pd.DataFrame(output_df))\n",
    "    X_array = np.array(X_ds)\n",
    "    return X_array, df_y"
   ]
  },
  {
   "cell_type": "code",
   "execution_count": 155,
   "metadata": {},
   "outputs": [],
   "source": [
    "data_X, data_y = generate_dataset()"
   ]
  },
  {
   "cell_type": "code",
   "execution_count": 156,
   "metadata": {},
   "outputs": [
    {
     "data": {
      "text/plain": [
       "array([[[ 1.70892021e+01,  2.30345347e+01,  2.53727300e+01, ...,\n",
       "          1.55906378e+01,  1.51746597e+01,  1.72605274e+01],\n",
       "        [ 1.75492783e+01,  2.32406456e+01,  2.57757219e+01, ...,\n",
       "          1.55431197e+01,  1.60328455e+01,  1.79278883e+01],\n",
       "        [ 1.84394300e+01,  2.38684372e+01,  2.69420575e+01, ...,\n",
       "          1.52030473e+01,  1.65432822e+01,  1.82179260e+01],\n",
       "        ...,\n",
       "        [ 1.18470960e+00,  1.82145923e+00,  1.54346077e+00, ...,\n",
       "         -4.40356443e-02,  4.22806026e+00,  3.57028252e+00],\n",
       "        [ 5.62373755e-01,  2.25560678e+00,  1.45263780e+00, ...,\n",
       "         -1.60743163e-01,  2.67192001e+00,  3.06921825e+00],\n",
       "        [-2.41728186e-01,  2.02227430e+00,  9.71938018e-01, ...,\n",
       "          8.12694473e-01,  1.61824308e+00,  2.55279657e+00]],\n",
       "\n",
       "       [[ 1.15721583e+01,  1.00022690e+01,  1.21931173e+01, ...,\n",
       "          1.67618421e+01,  2.02293547e+01,  1.63164350e+01],\n",
       "        [ 1.11526370e+01,  1.01352482e+01,  1.28754684e+01, ...,\n",
       "          1.77554011e+01,  1.99863154e+01,  1.53474414e+01],\n",
       "        [ 1.08441824e+01,  1.04263459e+01,  1.36821568e+01, ...,\n",
       "          1.86180861e+01,  1.94504104e+01,  1.44147076e+01],\n",
       "        ...,\n",
       "        [ 2.51782376e+00,  2.62124890e+00,  2.57337989e+00, ...,\n",
       "          4.41236975e+00,  3.27796428e+00,  2.58220574e+00],\n",
       "        [ 2.49020747e+00,  2.67629275e+00,  2.58847707e+00, ...,\n",
       "          4.23923372e+00,  3.21048005e+00,  2.45922427e+00],\n",
       "        [ 2.44528449e+00,  2.68653169e+00,  2.59248417e+00, ...,\n",
       "          4.10895020e+00,  3.16730991e+00,  2.36183074e+00]],\n",
       "\n",
       "       [[ 4.12065069e-01,  8.81047794e-01,  1.15930067e+00, ...,\n",
       "          1.29174825e+00,  5.18459445e-01,  1.12625364e+00],\n",
       "        [ 5.40132097e-01,  7.02481926e-01,  7.80513179e-01, ...,\n",
       "          1.10806985e+00,  7.42736837e-01,  9.61339806e-01],\n",
       "        [ 7.80449357e-01,  6.40125819e-01,  4.47565738e-01, ...,\n",
       "          9.96457272e-01,  1.07349000e+00,  8.51210229e-01],\n",
       "        ...,\n",
       "        [ 1.09472294e+01,  1.07594206e+01,  1.20036616e+01, ...,\n",
       "          1.46573507e+01,  1.18395489e+01,  1.11376667e+01],\n",
       "        [ 1.06314704e+01,  1.07743106e+01,  1.16735589e+01, ...,\n",
       "          1.47700769e+01,  1.19450966e+01,  1.10251175e+01],\n",
       "        [ 1.03706838e+01,  1.08791162e+01,  1.13515989e+01, ...,\n",
       "          1.47821047e+01,  1.22271147e+01,  1.10511759e+01]],\n",
       "\n",
       "       ...,\n",
       "\n",
       "       [[ 3.72820133e+01,  3.70575504e+01,  3.73218768e+01, ...,\n",
       "          3.48422863e+01,  3.73592405e+01,  3.56569210e+01],\n",
       "        [ 3.77532921e+01,  3.71282889e+01,  3.73793624e+01, ...,\n",
       "          3.46863678e+01,  3.74454792e+01,  3.63199625e+01],\n",
       "        [ 3.84042996e+01,  3.74864041e+01,  3.75623070e+01, ...,\n",
       "          3.46035296e+01,  3.71280839e+01,  3.69275849e+01],\n",
       "        ...,\n",
       "        [ 6.32181691e+00,  5.16557020e+00,  4.75301694e+00, ...,\n",
       "          4.11286117e+00,  3.66899682e+00,  4.62900526e+00],\n",
       "        [ 5.96874961e+00,  5.10174175e+00,  5.62468148e+00, ...,\n",
       "          4.55648598e+00,  3.44554620e+00,  4.24282234e+00],\n",
       "        [ 5.38530233e+00,  4.54799365e+00,  5.97856911e+00, ...,\n",
       "          4.69887279e+00,  3.33593916e+00,  3.95955507e+00]],\n",
       "\n",
       "       [[ 2.68505339e+01,  2.68811654e+01,  2.82389381e+01, ...,\n",
       "          2.85061189e+01,  2.81267836e+01,  2.66233438e+01],\n",
       "        [ 2.69713069e+01,  2.71165475e+01,  2.85617723e+01, ...,\n",
       "          2.95529580e+01,  2.84138466e+01,  2.72680798e+01],\n",
       "        [ 2.74675716e+01,  2.75290018e+01,  2.92282171e+01, ...,\n",
       "          3.02360156e+01,  2.88949707e+01,  2.81504566e+01],\n",
       "        ...,\n",
       "        [ 2.81697356e+00,  3.77899586e+00,  3.85187425e+00, ...,\n",
       "          1.64610900e+00,  3.74060473e+00,  2.32708443e+00],\n",
       "        [ 2.27328648e+00,  3.08265061e+00,  3.70310821e+00, ...,\n",
       "          1.14390345e+00,  3.11006918e+00,  1.97136751e+00],\n",
       "        [ 1.81018921e+00,  2.21978318e+00,  3.22779869e+00, ...,\n",
       "          1.02502917e+00,  2.49820336e+00,  1.60429237e+00]],\n",
       "\n",
       "       [[ 1.01775764e+02,  9.87116595e+01,  9.46314662e+01, ...,\n",
       "          1.08658830e+02,  1.06774821e+02,  1.03806105e+02],\n",
       "        [ 1.01548793e+02,  9.81173082e+01,  9.39007892e+01, ...,\n",
       "          1.08844039e+02,  1.06986607e+02,  1.03644992e+02],\n",
       "        [ 1.01540251e+02,  9.78461520e+01,  9.34201947e+01, ...,\n",
       "          1.09138843e+02,  1.07313402e+02,  1.03813513e+02],\n",
       "        ...,\n",
       "        [ 2.00675096e+01,  2.04211246e+01,  2.22083619e+01, ...,\n",
       "          1.96652752e+01,  1.81542786e+01,  1.91571408e+01],\n",
       "        [ 1.99603912e+01,  2.02099103e+01,  2.22005070e+01, ...,\n",
       "          1.99859665e+01,  1.78833567e+01,  1.89255020e+01],\n",
       "        [ 1.98511450e+01,  2.00319269e+01,  2.19499984e+01, ...,\n",
       "          2.03821773e+01,  1.79767745e+01,  1.89517220e+01]]])"
      ]
     },
     "execution_count": 156,
     "metadata": {},
     "output_type": "execute_result"
    }
   ],
   "source": [
    "data_X"
   ]
  },
  {
   "cell_type": "markdown",
   "metadata": {},
   "source": [
    "### Preprocessing data"
   ]
  },
  {
   "cell_type": "code",
   "execution_count": 157,
   "metadata": {},
   "outputs": [
    {
     "data": {
      "text/plain": [
       "8894.807639045095"
      ]
     },
     "execution_count": 157,
     "metadata": {},
     "output_type": "execute_result"
    }
   ],
   "source": [
    "# normalization data\n",
    "maxValue = np.amax(data_X)\n",
    "maxValue"
   ]
  },
  {
   "cell_type": "code",
   "execution_count": 158,
   "metadata": {},
   "outputs": [],
   "source": [
    "data_X /= maxValue"
   ]
  },
  {
   "cell_type": "code",
   "execution_count": 159,
   "metadata": {},
   "outputs": [
    {
     "data": {
      "text/plain": [
       "1.0"
      ]
     },
     "execution_count": 159,
     "metadata": {},
     "output_type": "execute_result"
    }
   ],
   "source": [
    "np.amax(data_X)"
   ]
  },
  {
   "cell_type": "code",
   "execution_count": null,
   "metadata": {},
   "outputs": [],
   "source": []
  },
  {
   "cell_type": "code",
   "execution_count": 160,
   "metadata": {},
   "outputs": [
    {
     "data": {
      "text/html": [
       "<div>\n",
       "<style scoped>\n",
       "    .dataframe tbody tr th:only-of-type {\n",
       "        vertical-align: middle;\n",
       "    }\n",
       "\n",
       "    .dataframe tbody tr th {\n",
       "        vertical-align: top;\n",
       "    }\n",
       "\n",
       "    .dataframe thead th {\n",
       "        text-align: right;\n",
       "    }\n",
       "</style>\n",
       "<table border=\"1\" class=\"dataframe\">\n",
       "  <thead>\n",
       "    <tr style=\"text-align: right;\">\n",
       "      <th></th>\n",
       "      <th>Amplitudes</th>\n",
       "      <th>Frequencies</th>\n",
       "      <th>Daping coeffitients</th>\n",
       "      <th>Speeds</th>\n",
       "    </tr>\n",
       "  </thead>\n",
       "  <tbody>\n",
       "    <tr>\n",
       "      <th>0</th>\n",
       "      <td>2.115239</td>\n",
       "      <td>223.548239</td>\n",
       "      <td>3.785228</td>\n",
       "      <td>2.044744</td>\n",
       "    </tr>\n",
       "    <tr>\n",
       "      <th>0</th>\n",
       "      <td>0.716958</td>\n",
       "      <td>149.544350</td>\n",
       "      <td>1.762577</td>\n",
       "      <td>-4.199938</td>\n",
       "    </tr>\n",
       "    <tr>\n",
       "      <th>0</th>\n",
       "      <td>1.187706</td>\n",
       "      <td>27.854517</td>\n",
       "      <td>4.031442</td>\n",
       "      <td>-0.998454</td>\n",
       "    </tr>\n",
       "    <tr>\n",
       "      <th>0</th>\n",
       "      <td>0.366942</td>\n",
       "      <td>85.135848</td>\n",
       "      <td>6.249120</td>\n",
       "      <td>-0.983750</td>\n",
       "    </tr>\n",
       "    <tr>\n",
       "      <th>0</th>\n",
       "      <td>3.033894</td>\n",
       "      <td>97.815050</td>\n",
       "      <td>6.187706</td>\n",
       "      <td>3.392649</td>\n",
       "    </tr>\n",
       "    <tr>\n",
       "      <th>...</th>\n",
       "      <td>...</td>\n",
       "      <td>...</td>\n",
       "      <td>...</td>\n",
       "      <td>...</td>\n",
       "    </tr>\n",
       "    <tr>\n",
       "      <th>0</th>\n",
       "      <td>4.133346</td>\n",
       "      <td>224.693724</td>\n",
       "      <td>1.335996</td>\n",
       "      <td>-3.787179</td>\n",
       "    </tr>\n",
       "    <tr>\n",
       "      <th>0</th>\n",
       "      <td>4.181185</td>\n",
       "      <td>109.696876</td>\n",
       "      <td>2.073955</td>\n",
       "      <td>-5.894142</td>\n",
       "    </tr>\n",
       "    <tr>\n",
       "      <th>0</th>\n",
       "      <td>4.317516</td>\n",
       "      <td>173.218206</td>\n",
       "      <td>8.389284</td>\n",
       "      <td>4.622735</td>\n",
       "    </tr>\n",
       "    <tr>\n",
       "      <th>0</th>\n",
       "      <td>3.863692</td>\n",
       "      <td>165.655274</td>\n",
       "      <td>8.932006</td>\n",
       "      <td>6.255857</td>\n",
       "    </tr>\n",
       "    <tr>\n",
       "      <th>0</th>\n",
       "      <td>2.735042</td>\n",
       "      <td>216.825933</td>\n",
       "      <td>7.591606</td>\n",
       "      <td>-7.597763</td>\n",
       "    </tr>\n",
       "  </tbody>\n",
       "</table>\n",
       "<p>100 rows × 4 columns</p>\n",
       "</div>"
      ],
      "text/plain": [
       "    Amplitudes  Frequencies  Daping coeffitients    Speeds\n",
       "0     2.115239   223.548239             3.785228  2.044744\n",
       "0     0.716958   149.544350             1.762577 -4.199938\n",
       "0     1.187706    27.854517             4.031442 -0.998454\n",
       "0     0.366942    85.135848             6.249120 -0.983750\n",
       "0     3.033894    97.815050             6.187706  3.392649\n",
       "..         ...          ...                  ...       ...\n",
       "0     4.133346   224.693724             1.335996 -3.787179\n",
       "0     4.181185   109.696876             2.073955 -5.894142\n",
       "0     4.317516   173.218206             8.389284  4.622735\n",
       "0     3.863692   165.655274             8.932006  6.255857\n",
       "0     2.735042   216.825933             7.591606 -7.597763\n",
       "\n",
       "[100 rows x 4 columns]"
      ]
     },
     "execution_count": 160,
     "metadata": {},
     "output_type": "execute_result"
    }
   ],
   "source": [
    "data_y"
   ]
  },
  {
   "cell_type": "code",
   "execution_count": 161,
   "metadata": {},
   "outputs": [
    {
     "data": {
      "text/plain": [
       "(100, 4)"
      ]
     },
     "execution_count": 161,
     "metadata": {},
     "output_type": "execute_result"
    }
   ],
   "source": [
    "data_y.shape"
   ]
  },
  {
   "cell_type": "code",
   "execution_count": null,
   "metadata": {},
   "outputs": [],
   "source": [
    "# reshape data\n",
    "data_X.shape"
   ]
  },
  {
   "cell_type": "code",
   "execution_count": 21,
   "metadata": {},
   "outputs": [
    {
     "data": {
      "text/plain": [
       "'channels_last'"
      ]
     },
     "execution_count": 21,
     "metadata": {},
     "output_type": "execute_result"
    }
   ],
   "source": [
    "K.image_data_format()"
   ]
  },
  {
   "cell_type": "code",
   "execution_count": 22,
   "metadata": {},
   "outputs": [
    {
     "name": "stdout",
     "output_type": "stream",
     "text": [
      "(100, 2000, 256, 1)\n"
     ]
    }
   ],
   "source": [
    "img_rows, img_cols = 2000, 256\n",
    "\n",
    "if K.image_data_format() == 'channels_last':\n",
    "    data_X = data_X.reshape(data_X.shape[0], img_rows, img_cols, 1)\n",
    "    input_shape = (img_rows, img_cols, 1)\n",
    "else:\n",
    "    data_X = data_X.reshape(X_train.shape[0], 1, img_rows, img_cols)\n",
    "    input_shape = (1, img_rows, img_cols)\n",
    "    \n",
    "print(data_X.shape)"
   ]
  },
  {
   "cell_type": "code",
   "execution_count": 23,
   "metadata": {},
   "outputs": [
    {
     "data": {
      "text/plain": [
       "(100, 2000, 256, 1)"
      ]
     },
     "execution_count": 23,
     "metadata": {},
     "output_type": "execute_result"
    }
   ],
   "source": [
    "input_shape = data_X.shape\n",
    "input_shape"
   ]
  },
  {
   "cell_type": "code",
   "execution_count": 162,
   "metadata": {},
   "outputs": [],
   "source": [
    "X_train, X_test, y_train, y_test = train_test_split(data_X, data_y, test_size=0.3)"
   ]
  },
  {
   "cell_type": "markdown",
   "metadata": {},
   "source": [
    "### Build the model CNN"
   ]
  },
  {
   "cell_type": "code",
   "execution_count": 163,
   "metadata": {},
   "outputs": [],
   "source": [
    "def get_triple_cnn():\n",
    "    return Sequential([\n",
    "        Conv2D(32, kernel_size=(3, 3), activation='relu', padding='same', input_shape=input_shape),\n",
    "        Conv2D(32, kernel_size=(3, 3), activation='relu'),\n",
    "        MaxPool2D(pool_size=(2, 2)),\n",
    "        Dropout(0.25), \n",
    "\n",
    "        Conv2D(64, kernel_size=(3, 3), activation='relu', padding='same',),\n",
    "        Conv2D(64, kernel_size=(3, 3), activation='relu'),\n",
    "        MaxPool2D(pool_size=(2, 2)),\n",
    "        Dropout(0.25),\n",
    "\n",
    "        Conv2D(128, kernel_size=(3, 3), activation='relu', padding='same',),\n",
    "        Conv2D(128, kernel_size=(3, 3), activation='relu'),\n",
    "        MaxPool2D(pool_size=(2, 2)),\n",
    "        Dropout(0.25),\n",
    "\n",
    "        Flatten(),\n",
    "\n",
    "        Dense(128, activation='relu'),\n",
    "        Dropout(0.5),\n",
    "        Dense(4)\n",
    "    ])"
   ]
  },
  {
   "cell_type": "code",
   "execution_count": 164,
   "metadata": {},
   "outputs": [
    {
     "ename": "ValueError",
     "evalue": "Input 0 of layer max_pooling2d_3 is incompatible with the layer: expected ndim=4, found ndim=5. Full shape received: (None, 100, 1998, 254, 32)",
     "output_type": "error",
     "traceback": [
      "\u001b[0;31m---------------------------------------------------------------------------\u001b[0m",
      "\u001b[0;31mValueError\u001b[0m                                Traceback (most recent call last)",
      "\u001b[0;32m<ipython-input-164-1247a2f9fa2d>\u001b[0m in \u001b[0;36m<module>\u001b[0;34m\u001b[0m\n\u001b[0;32m----> 1\u001b[0;31m \u001b[0mmodel\u001b[0m \u001b[0;34m=\u001b[0m \u001b[0mget_triple_cnn\u001b[0m\u001b[0;34m(\u001b[0m\u001b[0;34m)\u001b[0m\u001b[0;34m\u001b[0m\u001b[0;34m\u001b[0m\u001b[0m\n\u001b[0m\u001b[1;32m      2\u001b[0m \u001b[0mmodel\u001b[0m\u001b[0;34m.\u001b[0m\u001b[0mcompile\u001b[0m\u001b[0;34m(\u001b[0m\u001b[0mloss\u001b[0m\u001b[0;34m=\u001b[0m\u001b[0;34m'mean_squared_error'\u001b[0m\u001b[0;34m,\u001b[0m \u001b[0moptimizer\u001b[0m\u001b[0;34m=\u001b[0m\u001b[0;34m'Adam'\u001b[0m\u001b[0;34m,\u001b[0m \u001b[0mmetrics\u001b[0m\u001b[0;34m=\u001b[0m\u001b[0;34m[\u001b[0m\u001b[0;34m'mae'\u001b[0m\u001b[0;34m]\u001b[0m\u001b[0;34m)\u001b[0m\u001b[0;34m\u001b[0m\u001b[0;34m\u001b[0m\u001b[0m\n\u001b[1;32m      3\u001b[0m \u001b[0;34m\u001b[0m\u001b[0m\n\u001b[1;32m      4\u001b[0m \u001b[0mmodel\u001b[0m\u001b[0;34m.\u001b[0m\u001b[0msummary\u001b[0m\u001b[0;34m(\u001b[0m\u001b[0;34m)\u001b[0m\u001b[0;34m\u001b[0m\u001b[0;34m\u001b[0m\u001b[0m\n",
      "\u001b[0;32m<ipython-input-163-acc4ddee090e>\u001b[0m in \u001b[0;36mget_triple_cnn\u001b[0;34m()\u001b[0m\n\u001b[1;32m      1\u001b[0m \u001b[0;32mdef\u001b[0m \u001b[0mget_triple_cnn\u001b[0m\u001b[0;34m(\u001b[0m\u001b[0;34m)\u001b[0m\u001b[0;34m:\u001b[0m\u001b[0;34m\u001b[0m\u001b[0;34m\u001b[0m\u001b[0m\n\u001b[0;32m----> 2\u001b[0;31m     return Sequential([\n\u001b[0m\u001b[1;32m      3\u001b[0m         \u001b[0mConv2D\u001b[0m\u001b[0;34m(\u001b[0m\u001b[0;36m32\u001b[0m\u001b[0;34m,\u001b[0m \u001b[0mkernel_size\u001b[0m\u001b[0;34m=\u001b[0m\u001b[0;34m(\u001b[0m\u001b[0;36m3\u001b[0m\u001b[0;34m,\u001b[0m \u001b[0;36m3\u001b[0m\u001b[0;34m)\u001b[0m\u001b[0;34m,\u001b[0m \u001b[0mactivation\u001b[0m\u001b[0;34m=\u001b[0m\u001b[0;34m'relu'\u001b[0m\u001b[0;34m,\u001b[0m \u001b[0mpadding\u001b[0m\u001b[0;34m=\u001b[0m\u001b[0;34m'same'\u001b[0m\u001b[0;34m,\u001b[0m \u001b[0minput_shape\u001b[0m\u001b[0;34m=\u001b[0m\u001b[0minput_shape\u001b[0m\u001b[0;34m)\u001b[0m\u001b[0;34m,\u001b[0m\u001b[0;34m\u001b[0m\u001b[0;34m\u001b[0m\u001b[0m\n\u001b[1;32m      4\u001b[0m         \u001b[0mConv2D\u001b[0m\u001b[0;34m(\u001b[0m\u001b[0;36m32\u001b[0m\u001b[0;34m,\u001b[0m \u001b[0mkernel_size\u001b[0m\u001b[0;34m=\u001b[0m\u001b[0;34m(\u001b[0m\u001b[0;36m3\u001b[0m\u001b[0;34m,\u001b[0m \u001b[0;36m3\u001b[0m\u001b[0;34m)\u001b[0m\u001b[0;34m,\u001b[0m \u001b[0mactivation\u001b[0m\u001b[0;34m=\u001b[0m\u001b[0;34m'relu'\u001b[0m\u001b[0;34m)\u001b[0m\u001b[0;34m,\u001b[0m\u001b[0;34m\u001b[0m\u001b[0;34m\u001b[0m\u001b[0m\n\u001b[1;32m      5\u001b[0m         \u001b[0mMaxPool2D\u001b[0m\u001b[0;34m(\u001b[0m\u001b[0mpool_size\u001b[0m\u001b[0;34m=\u001b[0m\u001b[0;34m(\u001b[0m\u001b[0;36m2\u001b[0m\u001b[0;34m,\u001b[0m \u001b[0;36m2\u001b[0m\u001b[0;34m)\u001b[0m\u001b[0;34m)\u001b[0m\u001b[0;34m,\u001b[0m\u001b[0;34m\u001b[0m\u001b[0;34m\u001b[0m\u001b[0m\n",
      "\u001b[0;32m~/anaconda3/lib/python3.8/site-packages/tensorflow/python/training/tracking/base.py\u001b[0m in \u001b[0;36m_method_wrapper\u001b[0;34m(self, *args, **kwargs)\u001b[0m\n\u001b[1;32m    515\u001b[0m     \u001b[0mself\u001b[0m\u001b[0;34m.\u001b[0m\u001b[0m_self_setattr_tracking\u001b[0m \u001b[0;34m=\u001b[0m \u001b[0;32mFalse\u001b[0m  \u001b[0;31m# pylint: disable=protected-access\u001b[0m\u001b[0;34m\u001b[0m\u001b[0;34m\u001b[0m\u001b[0m\n\u001b[1;32m    516\u001b[0m     \u001b[0;32mtry\u001b[0m\u001b[0;34m:\u001b[0m\u001b[0;34m\u001b[0m\u001b[0;34m\u001b[0m\u001b[0m\n\u001b[0;32m--> 517\u001b[0;31m       \u001b[0mresult\u001b[0m \u001b[0;34m=\u001b[0m \u001b[0mmethod\u001b[0m\u001b[0;34m(\u001b[0m\u001b[0mself\u001b[0m\u001b[0;34m,\u001b[0m \u001b[0;34m*\u001b[0m\u001b[0margs\u001b[0m\u001b[0;34m,\u001b[0m \u001b[0;34m**\u001b[0m\u001b[0mkwargs\u001b[0m\u001b[0;34m)\u001b[0m\u001b[0;34m\u001b[0m\u001b[0;34m\u001b[0m\u001b[0m\n\u001b[0m\u001b[1;32m    518\u001b[0m     \u001b[0;32mfinally\u001b[0m\u001b[0;34m:\u001b[0m\u001b[0;34m\u001b[0m\u001b[0;34m\u001b[0m\u001b[0m\n\u001b[1;32m    519\u001b[0m       \u001b[0mself\u001b[0m\u001b[0;34m.\u001b[0m\u001b[0m_self_setattr_tracking\u001b[0m \u001b[0;34m=\u001b[0m \u001b[0mprevious_value\u001b[0m  \u001b[0;31m# pylint: disable=protected-access\u001b[0m\u001b[0;34m\u001b[0m\u001b[0;34m\u001b[0m\u001b[0m\n",
      "\u001b[0;32m~/anaconda3/lib/python3.8/site-packages/tensorflow/python/keras/engine/sequential.py\u001b[0m in \u001b[0;36m__init__\u001b[0;34m(self, layers, name)\u001b[0m\n\u001b[1;32m    142\u001b[0m         \u001b[0mlayers\u001b[0m \u001b[0;34m=\u001b[0m \u001b[0;34m[\u001b[0m\u001b[0mlayers\u001b[0m\u001b[0;34m]\u001b[0m\u001b[0;34m\u001b[0m\u001b[0;34m\u001b[0m\u001b[0m\n\u001b[1;32m    143\u001b[0m       \u001b[0;32mfor\u001b[0m \u001b[0mlayer\u001b[0m \u001b[0;32min\u001b[0m \u001b[0mlayers\u001b[0m\u001b[0;34m:\u001b[0m\u001b[0;34m\u001b[0m\u001b[0;34m\u001b[0m\u001b[0m\n\u001b[0;32m--> 144\u001b[0;31m         \u001b[0mself\u001b[0m\u001b[0;34m.\u001b[0m\u001b[0madd\u001b[0m\u001b[0;34m(\u001b[0m\u001b[0mlayer\u001b[0m\u001b[0;34m)\u001b[0m\u001b[0;34m\u001b[0m\u001b[0;34m\u001b[0m\u001b[0m\n\u001b[0m\u001b[1;32m    145\u001b[0m \u001b[0;34m\u001b[0m\u001b[0m\n\u001b[1;32m    146\u001b[0m   \u001b[0;34m@\u001b[0m\u001b[0mproperty\u001b[0m\u001b[0;34m\u001b[0m\u001b[0;34m\u001b[0m\u001b[0m\n",
      "\u001b[0;32m~/anaconda3/lib/python3.8/site-packages/tensorflow/python/training/tracking/base.py\u001b[0m in \u001b[0;36m_method_wrapper\u001b[0;34m(self, *args, **kwargs)\u001b[0m\n\u001b[1;32m    515\u001b[0m     \u001b[0mself\u001b[0m\u001b[0;34m.\u001b[0m\u001b[0m_self_setattr_tracking\u001b[0m \u001b[0;34m=\u001b[0m \u001b[0;32mFalse\u001b[0m  \u001b[0;31m# pylint: disable=protected-access\u001b[0m\u001b[0;34m\u001b[0m\u001b[0;34m\u001b[0m\u001b[0m\n\u001b[1;32m    516\u001b[0m     \u001b[0;32mtry\u001b[0m\u001b[0;34m:\u001b[0m\u001b[0;34m\u001b[0m\u001b[0;34m\u001b[0m\u001b[0m\n\u001b[0;32m--> 517\u001b[0;31m       \u001b[0mresult\u001b[0m \u001b[0;34m=\u001b[0m \u001b[0mmethod\u001b[0m\u001b[0;34m(\u001b[0m\u001b[0mself\u001b[0m\u001b[0;34m,\u001b[0m \u001b[0;34m*\u001b[0m\u001b[0margs\u001b[0m\u001b[0;34m,\u001b[0m \u001b[0;34m**\u001b[0m\u001b[0mkwargs\u001b[0m\u001b[0;34m)\u001b[0m\u001b[0;34m\u001b[0m\u001b[0;34m\u001b[0m\u001b[0m\n\u001b[0m\u001b[1;32m    518\u001b[0m     \u001b[0;32mfinally\u001b[0m\u001b[0;34m:\u001b[0m\u001b[0;34m\u001b[0m\u001b[0;34m\u001b[0m\u001b[0m\n\u001b[1;32m    519\u001b[0m       \u001b[0mself\u001b[0m\u001b[0;34m.\u001b[0m\u001b[0m_self_setattr_tracking\u001b[0m \u001b[0;34m=\u001b[0m \u001b[0mprevious_value\u001b[0m  \u001b[0;31m# pylint: disable=protected-access\u001b[0m\u001b[0;34m\u001b[0m\u001b[0;34m\u001b[0m\u001b[0m\n",
      "\u001b[0;32m~/anaconda3/lib/python3.8/site-packages/tensorflow/python/keras/engine/sequential.py\u001b[0m in \u001b[0;36madd\u001b[0;34m(self, layer)\u001b[0m\n\u001b[1;32m    221\u001b[0m       \u001b[0;31m# If the model is being built continuously on top of an input layer:\u001b[0m\u001b[0;34m\u001b[0m\u001b[0;34m\u001b[0m\u001b[0;34m\u001b[0m\u001b[0m\n\u001b[1;32m    222\u001b[0m       \u001b[0;31m# refresh its output.\u001b[0m\u001b[0;34m\u001b[0m\u001b[0;34m\u001b[0m\u001b[0;34m\u001b[0m\u001b[0m\n\u001b[0;32m--> 223\u001b[0;31m       \u001b[0moutput_tensor\u001b[0m \u001b[0;34m=\u001b[0m \u001b[0mlayer\u001b[0m\u001b[0;34m(\u001b[0m\u001b[0mself\u001b[0m\u001b[0;34m.\u001b[0m\u001b[0moutputs\u001b[0m\u001b[0;34m[\u001b[0m\u001b[0;36m0\u001b[0m\u001b[0;34m]\u001b[0m\u001b[0;34m)\u001b[0m\u001b[0;34m\u001b[0m\u001b[0;34m\u001b[0m\u001b[0m\n\u001b[0m\u001b[1;32m    224\u001b[0m       \u001b[0;32mif\u001b[0m \u001b[0mlen\u001b[0m\u001b[0;34m(\u001b[0m\u001b[0mnest\u001b[0m\u001b[0;34m.\u001b[0m\u001b[0mflatten\u001b[0m\u001b[0;34m(\u001b[0m\u001b[0moutput_tensor\u001b[0m\u001b[0;34m)\u001b[0m\u001b[0;34m)\u001b[0m \u001b[0;34m!=\u001b[0m \u001b[0;36m1\u001b[0m\u001b[0;34m:\u001b[0m\u001b[0;34m\u001b[0m\u001b[0;34m\u001b[0m\u001b[0m\n\u001b[1;32m    225\u001b[0m         \u001b[0;32mraise\u001b[0m \u001b[0mValueError\u001b[0m\u001b[0;34m(\u001b[0m\u001b[0mSINGLE_LAYER_OUTPUT_ERROR_MSG\u001b[0m\u001b[0;34m)\u001b[0m\u001b[0;34m\u001b[0m\u001b[0;34m\u001b[0m\u001b[0m\n",
      "\u001b[0;32m~/anaconda3/lib/python3.8/site-packages/tensorflow/python/keras/engine/base_layer.py\u001b[0m in \u001b[0;36m__call__\u001b[0;34m(self, *args, **kwargs)\u001b[0m\n\u001b[1;32m    949\u001b[0m     \u001b[0;31m# >> model = tf.keras.Model(inputs, outputs)\u001b[0m\u001b[0;34m\u001b[0m\u001b[0;34m\u001b[0m\u001b[0;34m\u001b[0m\u001b[0m\n\u001b[1;32m    950\u001b[0m     \u001b[0;32mif\u001b[0m \u001b[0m_in_functional_construction_mode\u001b[0m\u001b[0;34m(\u001b[0m\u001b[0mself\u001b[0m\u001b[0;34m,\u001b[0m \u001b[0minputs\u001b[0m\u001b[0;34m,\u001b[0m \u001b[0margs\u001b[0m\u001b[0;34m,\u001b[0m \u001b[0mkwargs\u001b[0m\u001b[0;34m,\u001b[0m \u001b[0minput_list\u001b[0m\u001b[0;34m)\u001b[0m\u001b[0;34m:\u001b[0m\u001b[0;34m\u001b[0m\u001b[0;34m\u001b[0m\u001b[0m\n\u001b[0;32m--> 951\u001b[0;31m       return self._functional_construction_call(inputs, args, kwargs,\n\u001b[0m\u001b[1;32m    952\u001b[0m                                                 input_list)\n\u001b[1;32m    953\u001b[0m \u001b[0;34m\u001b[0m\u001b[0m\n",
      "\u001b[0;32m~/anaconda3/lib/python3.8/site-packages/tensorflow/python/keras/engine/base_layer.py\u001b[0m in \u001b[0;36m_functional_construction_call\u001b[0;34m(self, inputs, args, kwargs, input_list)\u001b[0m\n\u001b[1;32m   1088\u001b[0m           layer=self, inputs=inputs, build_graph=True, training=training_value):\n\u001b[1;32m   1089\u001b[0m         \u001b[0;31m# Check input assumptions set after layer building, e.g. input shape.\u001b[0m\u001b[0;34m\u001b[0m\u001b[0;34m\u001b[0m\u001b[0;34m\u001b[0m\u001b[0m\n\u001b[0;32m-> 1090\u001b[0;31m         outputs = self._keras_tensor_symbolic_call(\n\u001b[0m\u001b[1;32m   1091\u001b[0m             inputs, input_masks, args, kwargs)\n\u001b[1;32m   1092\u001b[0m \u001b[0;34m\u001b[0m\u001b[0m\n",
      "\u001b[0;32m~/anaconda3/lib/python3.8/site-packages/tensorflow/python/keras/engine/base_layer.py\u001b[0m in \u001b[0;36m_keras_tensor_symbolic_call\u001b[0;34m(self, inputs, input_masks, args, kwargs)\u001b[0m\n\u001b[1;32m    820\u001b[0m       \u001b[0;32mreturn\u001b[0m \u001b[0mnest\u001b[0m\u001b[0;34m.\u001b[0m\u001b[0mmap_structure\u001b[0m\u001b[0;34m(\u001b[0m\u001b[0mkeras_tensor\u001b[0m\u001b[0;34m.\u001b[0m\u001b[0mKerasTensor\u001b[0m\u001b[0;34m,\u001b[0m \u001b[0moutput_signature\u001b[0m\u001b[0;34m)\u001b[0m\u001b[0;34m\u001b[0m\u001b[0;34m\u001b[0m\u001b[0m\n\u001b[1;32m    821\u001b[0m     \u001b[0;32melse\u001b[0m\u001b[0;34m:\u001b[0m\u001b[0;34m\u001b[0m\u001b[0;34m\u001b[0m\u001b[0m\n\u001b[0;32m--> 822\u001b[0;31m       \u001b[0;32mreturn\u001b[0m \u001b[0mself\u001b[0m\u001b[0;34m.\u001b[0m\u001b[0m_infer_output_signature\u001b[0m\u001b[0;34m(\u001b[0m\u001b[0minputs\u001b[0m\u001b[0;34m,\u001b[0m \u001b[0margs\u001b[0m\u001b[0;34m,\u001b[0m \u001b[0mkwargs\u001b[0m\u001b[0;34m,\u001b[0m \u001b[0minput_masks\u001b[0m\u001b[0;34m)\u001b[0m\u001b[0;34m\u001b[0m\u001b[0;34m\u001b[0m\u001b[0m\n\u001b[0m\u001b[1;32m    823\u001b[0m \u001b[0;34m\u001b[0m\u001b[0m\n\u001b[1;32m    824\u001b[0m   \u001b[0;32mdef\u001b[0m \u001b[0m_infer_output_signature\u001b[0m\u001b[0;34m(\u001b[0m\u001b[0mself\u001b[0m\u001b[0;34m,\u001b[0m \u001b[0minputs\u001b[0m\u001b[0;34m,\u001b[0m \u001b[0margs\u001b[0m\u001b[0;34m,\u001b[0m \u001b[0mkwargs\u001b[0m\u001b[0;34m,\u001b[0m \u001b[0minput_masks\u001b[0m\u001b[0;34m)\u001b[0m\u001b[0;34m:\u001b[0m\u001b[0;34m\u001b[0m\u001b[0;34m\u001b[0m\u001b[0m\n",
      "\u001b[0;32m~/anaconda3/lib/python3.8/site-packages/tensorflow/python/keras/engine/base_layer.py\u001b[0m in \u001b[0;36m_infer_output_signature\u001b[0;34m(self, inputs, args, kwargs, input_masks)\u001b[0m\n\u001b[1;32m    860\u001b[0m           \u001b[0;31m# overridden).\u001b[0m\u001b[0;34m\u001b[0m\u001b[0;34m\u001b[0m\u001b[0;34m\u001b[0m\u001b[0m\n\u001b[1;32m    861\u001b[0m           \u001b[0;31m# TODO(kaftan): do we maybe_build here, or have we already done it?\u001b[0m\u001b[0;34m\u001b[0m\u001b[0;34m\u001b[0m\u001b[0;34m\u001b[0m\u001b[0m\n\u001b[0;32m--> 862\u001b[0;31m           \u001b[0mself\u001b[0m\u001b[0;34m.\u001b[0m\u001b[0m_maybe_build\u001b[0m\u001b[0;34m(\u001b[0m\u001b[0minputs\u001b[0m\u001b[0;34m)\u001b[0m\u001b[0;34m\u001b[0m\u001b[0;34m\u001b[0m\u001b[0m\n\u001b[0m\u001b[1;32m    863\u001b[0m           \u001b[0moutputs\u001b[0m \u001b[0;34m=\u001b[0m \u001b[0mcall_fn\u001b[0m\u001b[0;34m(\u001b[0m\u001b[0minputs\u001b[0m\u001b[0;34m,\u001b[0m \u001b[0;34m*\u001b[0m\u001b[0margs\u001b[0m\u001b[0;34m,\u001b[0m \u001b[0;34m**\u001b[0m\u001b[0mkwargs\u001b[0m\u001b[0;34m)\u001b[0m\u001b[0;34m\u001b[0m\u001b[0;34m\u001b[0m\u001b[0m\n\u001b[1;32m    864\u001b[0m \u001b[0;34m\u001b[0m\u001b[0m\n",
      "\u001b[0;32m~/anaconda3/lib/python3.8/site-packages/tensorflow/python/keras/engine/base_layer.py\u001b[0m in \u001b[0;36m_maybe_build\u001b[0;34m(self, inputs)\u001b[0m\n\u001b[1;32m   2682\u001b[0m     \u001b[0;31m# Check input assumptions set before layer building, e.g. input rank.\u001b[0m\u001b[0;34m\u001b[0m\u001b[0;34m\u001b[0m\u001b[0;34m\u001b[0m\u001b[0m\n\u001b[1;32m   2683\u001b[0m     \u001b[0;32mif\u001b[0m \u001b[0;32mnot\u001b[0m \u001b[0mself\u001b[0m\u001b[0;34m.\u001b[0m\u001b[0mbuilt\u001b[0m\u001b[0;34m:\u001b[0m\u001b[0;34m\u001b[0m\u001b[0;34m\u001b[0m\u001b[0m\n\u001b[0;32m-> 2684\u001b[0;31m       input_spec.assert_input_compatibility(\n\u001b[0m\u001b[1;32m   2685\u001b[0m           self.input_spec, inputs, self.name)\n\u001b[1;32m   2686\u001b[0m       \u001b[0minput_list\u001b[0m \u001b[0;34m=\u001b[0m \u001b[0mnest\u001b[0m\u001b[0;34m.\u001b[0m\u001b[0mflatten\u001b[0m\u001b[0;34m(\u001b[0m\u001b[0minputs\u001b[0m\u001b[0;34m)\u001b[0m\u001b[0;34m\u001b[0m\u001b[0;34m\u001b[0m\u001b[0m\n",
      "\u001b[0;32m~/anaconda3/lib/python3.8/site-packages/tensorflow/python/keras/engine/input_spec.py\u001b[0m in \u001b[0;36massert_input_compatibility\u001b[0;34m(input_spec, inputs, layer_name)\u001b[0m\n\u001b[1;32m    217\u001b[0m       \u001b[0mndim\u001b[0m \u001b[0;34m=\u001b[0m \u001b[0mshape\u001b[0m\u001b[0;34m.\u001b[0m\u001b[0mrank\u001b[0m\u001b[0;34m\u001b[0m\u001b[0;34m\u001b[0m\u001b[0m\n\u001b[1;32m    218\u001b[0m       \u001b[0;32mif\u001b[0m \u001b[0mndim\u001b[0m \u001b[0;34m!=\u001b[0m \u001b[0mspec\u001b[0m\u001b[0;34m.\u001b[0m\u001b[0mndim\u001b[0m\u001b[0;34m:\u001b[0m\u001b[0;34m\u001b[0m\u001b[0;34m\u001b[0m\u001b[0m\n\u001b[0;32m--> 219\u001b[0;31m         raise ValueError('Input ' + str(input_index) + ' of layer ' +\n\u001b[0m\u001b[1;32m    220\u001b[0m                          \u001b[0mlayer_name\u001b[0m \u001b[0;34m+\u001b[0m \u001b[0;34m' is incompatible with the layer: '\u001b[0m\u001b[0;34m\u001b[0m\u001b[0;34m\u001b[0m\u001b[0m\n\u001b[1;32m    221\u001b[0m                          \u001b[0;34m'expected ndim='\u001b[0m \u001b[0;34m+\u001b[0m \u001b[0mstr\u001b[0m\u001b[0;34m(\u001b[0m\u001b[0mspec\u001b[0m\u001b[0;34m.\u001b[0m\u001b[0mndim\u001b[0m\u001b[0;34m)\u001b[0m \u001b[0;34m+\u001b[0m \u001b[0;34m', found ndim='\u001b[0m \u001b[0;34m+\u001b[0m\u001b[0;34m\u001b[0m\u001b[0;34m\u001b[0m\u001b[0m\n",
      "\u001b[0;31mValueError\u001b[0m: Input 0 of layer max_pooling2d_3 is incompatible with the layer: expected ndim=4, found ndim=5. Full shape received: (None, 100, 1998, 254, 32)"
     ]
    }
   ],
   "source": [
    "model = get_triple_cnn()\n",
    "model.compile(loss='mean_squared_error', optimizer='Adam', metrics=['mae'])\n",
    "\n",
    "model.summary()"
   ]
  },
  {
   "cell_type": "markdown",
   "metadata": {},
   "source": [
    "### Epochs and Batch Size"
   ]
  },
  {
   "cell_type": "code",
   "execution_count": null,
   "metadata": {},
   "outputs": [],
   "source": [
    "epochs = 5  \n",
    "batch_size = 20"
   ]
  },
  {
   "cell_type": "markdown",
   "metadata": {},
   "source": [
    "### Fit the model"
   ]
  },
  {
   "cell_type": "code",
   "execution_count": null,
   "metadata": {},
   "outputs": [],
   "source": [
    "plot_losses = PlotLossesKeras()\n",
    "\n",
    "history = model.fit(X_train, y_train,\n",
    "  batch_size=batch_size, epochs=epochs,\n",
    "  verbose=2,\n",
    "  callbacks=[plot_losses],\n",
    "  validation_data=(X_test, y_test))"
   ]
  },
  {
   "cell_type": "markdown",
   "metadata": {},
   "source": [
    "### Evaluate model"
   ]
  },
  {
   "cell_type": "code",
   "execution_count": null,
   "metadata": {},
   "outputs": [],
   "source": [
    "score = model.evaluate(X_test, y_test, verbose=0)\n",
    "print('Test loss:', score[0])\n",
    "print('Test mae:', score[1])\n"
   ]
  },
  {
   "cell_type": "code",
   "execution_count": null,
   "metadata": {},
   "outputs": [],
   "source": [
    "def draw_learning_curve(history, key='mae', ylim=(0.8, 1.01)):\n",
    "    plt.figure(figsize=(12,6))\n",
    "    plt.plot(history.history[key])\n",
    "    plt.plot(history.history['val_' + key])\n",
    "    plt.title('Learning Curve')\n",
    "    plt.ylabel(key.title())\n",
    "    plt.xlabel('Epoch')\n",
    "    plt.ylim(ylim)\n",
    "    plt.legend(['train', 'test'], loc='best')\n",
    "    plt.show()"
   ]
  },
  {
   "cell_type": "code",
   "execution_count": null,
   "metadata": {},
   "outputs": [],
   "source": [
    "draw_learning_curve(history, 'mae', ylim=(0.7, 1.))"
   ]
  },
  {
   "cell_type": "code",
   "execution_count": null,
   "metadata": {},
   "outputs": [],
   "source": [
    "draw_learning_curve(history, 'loss', ylim=(0., 1.))"
   ]
  },
  {
   "cell_type": "markdown",
   "metadata": {},
   "source": [
    "### Make predictions"
   ]
  },
  {
   "cell_type": "code",
   "execution_count": null,
   "metadata": {},
   "outputs": [],
   "source": [
    "y_pred = model.predict(X_test)"
   ]
  },
  {
   "cell_type": "code",
   "execution_count": null,
   "metadata": {},
   "outputs": [],
   "source": []
  }
 ],
 "metadata": {
  "kernelspec": {
   "display_name": "Python 3",
   "language": "python",
   "name": "python3"
  },
  "language_info": {
   "codemirror_mode": {
    "name": "ipython",
    "version": 3
   },
   "file_extension": ".py",
   "mimetype": "text/x-python",
   "name": "python",
   "nbconvert_exporter": "python",
   "pygments_lexer": "ipython3",
   "version": "3.8.5"
  }
 },
 "nbformat": 4,
 "nbformat_minor": 4
}
