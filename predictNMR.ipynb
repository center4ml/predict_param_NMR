{
 "cells": [
  {
   "cell_type": "code",
   "execution_count": 1,
   "metadata": {},
   "outputs": [],
   "source": [
    "import pandas as pd\n",
    "import numpy as np\n",
    "np.random.seed(0) \n",
    "\n",
    "from tensorflow.keras.models import Sequential\n",
    "from tensorflow.keras.layers import Dense, Dropout, Flatten\n",
    "from tensorflow.keras.layers import Conv2D, MaxPool2D\n",
    "from tensorflow.keras import backend as K\n",
    "from livelossplot import PlotLossesKeras\n",
    "\n",
    "from tensorflow.keras.optimizers import Adam\n",
    "\n",
    "from sklearn.metrics import mean_absolute_error\n",
    "\n",
    "from sklearn.model_selection import train_test_split\n",
    "\n",
    "import glob\n",
    "import os\n",
    "import cv2\n",
    "from tqdm import tqdm\n",
    "\n",
    "\n",
    "import seaborn as sns\n",
    "import matplotlib.pyplot as plt\n",
    "%matplotlib inline"
   ]
  },
  {
   "cell_type": "markdown",
   "metadata": {},
   "source": [
    "### import data"
   ]
  },
  {
   "cell_type": "code",
   "execution_count": 5,
   "metadata": {},
   "outputs": [
    {
     "data": {
      "text/html": [
       "<div>\n",
       "<style scoped>\n",
       "    .dataframe tbody tr th:only-of-type {\n",
       "        vertical-align: middle;\n",
       "    }\n",
       "\n",
       "    .dataframe tbody tr th {\n",
       "        vertical-align: top;\n",
       "    }\n",
       "\n",
       "    .dataframe thead th {\n",
       "        text-align: right;\n",
       "    }\n",
       "</style>\n",
       "<table border=\"1\" class=\"dataframe\">\n",
       "  <thead>\n",
       "    <tr style=\"text-align: right;\">\n",
       "      <th></th>\n",
       "      <th>Amplitudes</th>\n",
       "      <th>Frequencies</th>\n",
       "      <th>Daping coeffitients</th>\n",
       "      <th>Speeds</th>\n",
       "      <th>SNR</th>\n",
       "    </tr>\n",
       "  </thead>\n",
       "  <tbody>\n",
       "    <tr>\n",
       "      <th>0</th>\n",
       "      <td>1.894824</td>\n",
       "      <td>229.127372</td>\n",
       "      <td>2.065563</td>\n",
       "      <td>3.139201</td>\n",
       "      <td>95.113244</td>\n",
       "    </tr>\n",
       "  </tbody>\n",
       "</table>\n",
       "</div>"
      ],
      "text/plain": [
       "   Amplitudes  Frequencies  Daping coeffitients    Speeds        SNR\n",
       "0    1.894824   229.127372             2.065563  3.139201  95.113244"
      ]
     },
     "execution_count": 5,
     "metadata": {},
     "output_type": "execute_result"
    }
   ],
   "source": [
    "df= pd.read_csv(\"test/output/output0.csv\")\n",
    "df.head()"
   ]
  },
  {
   "cell_type": "code",
   "execution_count": 6,
   "metadata": {},
   "outputs": [],
   "source": [
    "df = pd.concat(map(pd.read_csv, glob.glob(os.path.join('', \"test/output/output*.csv\"))))"
   ]
  },
  {
   "cell_type": "code",
   "execution_count": 7,
   "metadata": {},
   "outputs": [
    {
     "data": {
      "text/html": [
       "<div>\n",
       "<style scoped>\n",
       "    .dataframe tbody tr th:only-of-type {\n",
       "        vertical-align: middle;\n",
       "    }\n",
       "\n",
       "    .dataframe tbody tr th {\n",
       "        vertical-align: top;\n",
       "    }\n",
       "\n",
       "    .dataframe thead th {\n",
       "        text-align: right;\n",
       "    }\n",
       "</style>\n",
       "<table border=\"1\" class=\"dataframe\">\n",
       "  <thead>\n",
       "    <tr style=\"text-align: right;\">\n",
       "      <th></th>\n",
       "      <th>Amplitudes</th>\n",
       "      <th>Frequencies</th>\n",
       "      <th>Daping coeffitients</th>\n",
       "      <th>Speeds</th>\n",
       "      <th>SNR</th>\n",
       "    </tr>\n",
       "  </thead>\n",
       "  <tbody>\n",
       "    <tr>\n",
       "      <th>0</th>\n",
       "      <td>3.670712</td>\n",
       "      <td>213.277862</td>\n",
       "      <td>6.224857</td>\n",
       "      <td>-2.721940</td>\n",
       "      <td>14.291014</td>\n",
       "    </tr>\n",
       "    <tr>\n",
       "      <th>0</th>\n",
       "      <td>1.879941</td>\n",
       "      <td>163.226894</td>\n",
       "      <td>0.723691</td>\n",
       "      <td>7.404927</td>\n",
       "      <td>39.169301</td>\n",
       "    </tr>\n",
       "    <tr>\n",
       "      <th>0</th>\n",
       "      <td>3.948317</td>\n",
       "      <td>114.884776</td>\n",
       "      <td>6.203916</td>\n",
       "      <td>-2.328775</td>\n",
       "      <td>55.045094</td>\n",
       "    </tr>\n",
       "    <tr>\n",
       "      <th>0</th>\n",
       "      <td>2.680349</td>\n",
       "      <td>83.384335</td>\n",
       "      <td>1.240437</td>\n",
       "      <td>-5.460384</td>\n",
       "      <td>60.832520</td>\n",
       "    </tr>\n",
       "    <tr>\n",
       "      <th>0</th>\n",
       "      <td>2.375230</td>\n",
       "      <td>69.323893</td>\n",
       "      <td>5.489942</td>\n",
       "      <td>6.107269</td>\n",
       "      <td>61.373392</td>\n",
       "    </tr>\n",
       "    <tr>\n",
       "      <th>...</th>\n",
       "      <td>...</td>\n",
       "      <td>...</td>\n",
       "      <td>...</td>\n",
       "      <td>...</td>\n",
       "      <td>...</td>\n",
       "    </tr>\n",
       "    <tr>\n",
       "      <th>0</th>\n",
       "      <td>4.403836</td>\n",
       "      <td>18.868849</td>\n",
       "      <td>1.515863</td>\n",
       "      <td>-2.661488</td>\n",
       "      <td>54.076477</td>\n",
       "    </tr>\n",
       "    <tr>\n",
       "      <th>0</th>\n",
       "      <td>4.804255</td>\n",
       "      <td>35.105291</td>\n",
       "      <td>9.873786</td>\n",
       "      <td>-3.589260</td>\n",
       "      <td>72.599596</td>\n",
       "    </tr>\n",
       "    <tr>\n",
       "      <th>0</th>\n",
       "      <td>4.715750</td>\n",
       "      <td>91.366737</td>\n",
       "      <td>6.698049</td>\n",
       "      <td>-2.129933</td>\n",
       "      <td>73.884334</td>\n",
       "    </tr>\n",
       "    <tr>\n",
       "      <th>0</th>\n",
       "      <td>4.778039</td>\n",
       "      <td>137.075316</td>\n",
       "      <td>4.295846</td>\n",
       "      <td>1.079967</td>\n",
       "      <td>27.511666</td>\n",
       "    </tr>\n",
       "    <tr>\n",
       "      <th>0</th>\n",
       "      <td>4.594720</td>\n",
       "      <td>220.732024</td>\n",
       "      <td>5.884373</td>\n",
       "      <td>3.604342</td>\n",
       "      <td>70.691123</td>\n",
       "    </tr>\n",
       "  </tbody>\n",
       "</table>\n",
       "<p>100 rows × 5 columns</p>\n",
       "</div>"
      ],
      "text/plain": [
       "    Amplitudes  Frequencies  Daping coeffitients    Speeds        SNR\n",
       "0     3.670712   213.277862             6.224857 -2.721940  14.291014\n",
       "0     1.879941   163.226894             0.723691  7.404927  39.169301\n",
       "0     3.948317   114.884776             6.203916 -2.328775  55.045094\n",
       "0     2.680349    83.384335             1.240437 -5.460384  60.832520\n",
       "0     2.375230    69.323893             5.489942  6.107269  61.373392\n",
       "..         ...          ...                  ...       ...        ...\n",
       "0     4.403836    18.868849             1.515863 -2.661488  54.076477\n",
       "0     4.804255    35.105291             9.873786 -3.589260  72.599596\n",
       "0     4.715750    91.366737             6.698049 -2.129933  73.884334\n",
       "0     4.778039   137.075316             4.295846  1.079967  27.511666\n",
       "0     4.594720   220.732024             5.884373  3.604342  70.691123\n",
       "\n",
       "[100 rows x 5 columns]"
      ]
     },
     "execution_count": 7,
     "metadata": {},
     "output_type": "execute_result"
    }
   ],
   "source": [
    "df"
   ]
  },
  {
   "cell_type": "code",
   "execution_count": 6,
   "metadata": {},
   "outputs": [
    {
     "data": {
      "text/html": [
       "<div>\n",
       "<style scoped>\n",
       "    .dataframe tbody tr th:only-of-type {\n",
       "        vertical-align: middle;\n",
       "    }\n",
       "\n",
       "    .dataframe tbody tr th {\n",
       "        vertical-align: top;\n",
       "    }\n",
       "\n",
       "    .dataframe thead th {\n",
       "        text-align: right;\n",
       "    }\n",
       "</style>\n",
       "<table border=\"1\" class=\"dataframe\">\n",
       "  <thead>\n",
       "    <tr style=\"text-align: right;\">\n",
       "      <th></th>\n",
       "      <th>Amplitudes</th>\n",
       "      <th>Frequencies</th>\n",
       "      <th>Daping coeffitients</th>\n",
       "      <th>Speeds</th>\n",
       "    </tr>\n",
       "  </thead>\n",
       "  <tbody>\n",
       "    <tr>\n",
       "      <th>0</th>\n",
       "      <td>3.670712</td>\n",
       "      <td>213.277862</td>\n",
       "      <td>6.224857</td>\n",
       "      <td>-2.721940</td>\n",
       "    </tr>\n",
       "    <tr>\n",
       "      <th>0</th>\n",
       "      <td>1.879941</td>\n",
       "      <td>163.226894</td>\n",
       "      <td>0.723691</td>\n",
       "      <td>7.404927</td>\n",
       "    </tr>\n",
       "    <tr>\n",
       "      <th>0</th>\n",
       "      <td>3.948317</td>\n",
       "      <td>114.884776</td>\n",
       "      <td>6.203916</td>\n",
       "      <td>-2.328775</td>\n",
       "    </tr>\n",
       "    <tr>\n",
       "      <th>0</th>\n",
       "      <td>2.680349</td>\n",
       "      <td>83.384335</td>\n",
       "      <td>1.240437</td>\n",
       "      <td>-5.460384</td>\n",
       "    </tr>\n",
       "    <tr>\n",
       "      <th>0</th>\n",
       "      <td>2.375230</td>\n",
       "      <td>69.323893</td>\n",
       "      <td>5.489942</td>\n",
       "      <td>6.107269</td>\n",
       "    </tr>\n",
       "    <tr>\n",
       "      <th>...</th>\n",
       "      <td>...</td>\n",
       "      <td>...</td>\n",
       "      <td>...</td>\n",
       "      <td>...</td>\n",
       "    </tr>\n",
       "    <tr>\n",
       "      <th>0</th>\n",
       "      <td>4.403836</td>\n",
       "      <td>18.868849</td>\n",
       "      <td>1.515863</td>\n",
       "      <td>-2.661488</td>\n",
       "    </tr>\n",
       "    <tr>\n",
       "      <th>0</th>\n",
       "      <td>4.804255</td>\n",
       "      <td>35.105291</td>\n",
       "      <td>9.873786</td>\n",
       "      <td>-3.589260</td>\n",
       "    </tr>\n",
       "    <tr>\n",
       "      <th>0</th>\n",
       "      <td>4.715750</td>\n",
       "      <td>91.366737</td>\n",
       "      <td>6.698049</td>\n",
       "      <td>-2.129933</td>\n",
       "    </tr>\n",
       "    <tr>\n",
       "      <th>0</th>\n",
       "      <td>4.778039</td>\n",
       "      <td>137.075316</td>\n",
       "      <td>4.295846</td>\n",
       "      <td>1.079967</td>\n",
       "    </tr>\n",
       "    <tr>\n",
       "      <th>0</th>\n",
       "      <td>4.594720</td>\n",
       "      <td>220.732024</td>\n",
       "      <td>5.884373</td>\n",
       "      <td>3.604342</td>\n",
       "    </tr>\n",
       "  </tbody>\n",
       "</table>\n",
       "<p>100 rows × 4 columns</p>\n",
       "</div>"
      ],
      "text/plain": [
       "    Amplitudes  Frequencies  Daping coeffitients    Speeds\n",
       "0     3.670712   213.277862             6.224857 -2.721940\n",
       "0     1.879941   163.226894             0.723691  7.404927\n",
       "0     3.948317   114.884776             6.203916 -2.328775\n",
       "0     2.680349    83.384335             1.240437 -5.460384\n",
       "0     2.375230    69.323893             5.489942  6.107269\n",
       "..         ...          ...                  ...       ...\n",
       "0     4.403836    18.868849             1.515863 -2.661488\n",
       "0     4.804255    35.105291             9.873786 -3.589260\n",
       "0     4.715750    91.366737             6.698049 -2.129933\n",
       "0     4.778039   137.075316             4.295846  1.079967\n",
       "0     4.594720   220.732024             5.884373  3.604342\n",
       "\n",
       "[100 rows x 4 columns]"
      ]
     },
     "execution_count": 6,
     "metadata": {},
     "output_type": "execute_result"
    }
   ],
   "source": [
    "labels=df.iloc[:,:-1]\n",
    "labels"
   ]
  },
  {
   "cell_type": "code",
   "execution_count": 7,
   "metadata": {},
   "outputs": [
    {
     "data": {
      "text/html": [
       "<div>\n",
       "<style scoped>\n",
       "    .dataframe tbody tr th:only-of-type {\n",
       "        vertical-align: middle;\n",
       "    }\n",
       "\n",
       "    .dataframe tbody tr th {\n",
       "        vertical-align: top;\n",
       "    }\n",
       "\n",
       "    .dataframe thead th {\n",
       "        text-align: right;\n",
       "    }\n",
       "</style>\n",
       "<table border=\"1\" class=\"dataframe\">\n",
       "  <thead>\n",
       "    <tr style=\"text-align: right;\">\n",
       "      <th></th>\n",
       "      <th>Amplitudes</th>\n",
       "      <th>Frequencies</th>\n",
       "      <th>Daping coeffitients</th>\n",
       "      <th>Speeds</th>\n",
       "      <th>image_name</th>\n",
       "    </tr>\n",
       "  </thead>\n",
       "  <tbody>\n",
       "    <tr>\n",
       "      <th>0</th>\n",
       "      <td>3.670712</td>\n",
       "      <td>213.277862</td>\n",
       "      <td>6.224857</td>\n",
       "      <td>-2.721940</td>\n",
       "      <td>input0</td>\n",
       "    </tr>\n",
       "    <tr>\n",
       "      <th>0</th>\n",
       "      <td>1.879941</td>\n",
       "      <td>163.226894</td>\n",
       "      <td>0.723691</td>\n",
       "      <td>7.404927</td>\n",
       "      <td>input1</td>\n",
       "    </tr>\n",
       "    <tr>\n",
       "      <th>0</th>\n",
       "      <td>3.948317</td>\n",
       "      <td>114.884776</td>\n",
       "      <td>6.203916</td>\n",
       "      <td>-2.328775</td>\n",
       "      <td>input2</td>\n",
       "    </tr>\n",
       "    <tr>\n",
       "      <th>0</th>\n",
       "      <td>2.680349</td>\n",
       "      <td>83.384335</td>\n",
       "      <td>1.240437</td>\n",
       "      <td>-5.460384</td>\n",
       "      <td>input3</td>\n",
       "    </tr>\n",
       "    <tr>\n",
       "      <th>0</th>\n",
       "      <td>2.375230</td>\n",
       "      <td>69.323893</td>\n",
       "      <td>5.489942</td>\n",
       "      <td>6.107269</td>\n",
       "      <td>input4</td>\n",
       "    </tr>\n",
       "    <tr>\n",
       "      <th>...</th>\n",
       "      <td>...</td>\n",
       "      <td>...</td>\n",
       "      <td>...</td>\n",
       "      <td>...</td>\n",
       "      <td>...</td>\n",
       "    </tr>\n",
       "    <tr>\n",
       "      <th>0</th>\n",
       "      <td>4.403836</td>\n",
       "      <td>18.868849</td>\n",
       "      <td>1.515863</td>\n",
       "      <td>-2.661488</td>\n",
       "      <td>input95</td>\n",
       "    </tr>\n",
       "    <tr>\n",
       "      <th>0</th>\n",
       "      <td>4.804255</td>\n",
       "      <td>35.105291</td>\n",
       "      <td>9.873786</td>\n",
       "      <td>-3.589260</td>\n",
       "      <td>input96</td>\n",
       "    </tr>\n",
       "    <tr>\n",
       "      <th>0</th>\n",
       "      <td>4.715750</td>\n",
       "      <td>91.366737</td>\n",
       "      <td>6.698049</td>\n",
       "      <td>-2.129933</td>\n",
       "      <td>input97</td>\n",
       "    </tr>\n",
       "    <tr>\n",
       "      <th>0</th>\n",
       "      <td>4.778039</td>\n",
       "      <td>137.075316</td>\n",
       "      <td>4.295846</td>\n",
       "      <td>1.079967</td>\n",
       "      <td>input98</td>\n",
       "    </tr>\n",
       "    <tr>\n",
       "      <th>0</th>\n",
       "      <td>4.594720</td>\n",
       "      <td>220.732024</td>\n",
       "      <td>5.884373</td>\n",
       "      <td>3.604342</td>\n",
       "      <td>input99</td>\n",
       "    </tr>\n",
       "  </tbody>\n",
       "</table>\n",
       "<p>100 rows × 5 columns</p>\n",
       "</div>"
      ],
      "text/plain": [
       "    Amplitudes  Frequencies  Daping coeffitients    Speeds image_name\n",
       "0     3.670712   213.277862             6.224857 -2.721940     input0\n",
       "0     1.879941   163.226894             0.723691  7.404927     input1\n",
       "0     3.948317   114.884776             6.203916 -2.328775     input2\n",
       "0     2.680349    83.384335             1.240437 -5.460384     input3\n",
       "0     2.375230    69.323893             5.489942  6.107269     input4\n",
       "..         ...          ...                  ...       ...        ...\n",
       "0     4.403836    18.868849             1.515863 -2.661488    input95\n",
       "0     4.804255    35.105291             9.873786 -3.589260    input96\n",
       "0     4.715750    91.366737             6.698049 -2.129933    input97\n",
       "0     4.778039   137.075316             4.295846  1.079967    input98\n",
       "0     4.594720   220.732024             5.884373  3.604342    input99\n",
       "\n",
       "[100 rows x 5 columns]"
      ]
     },
     "execution_count": 7,
     "metadata": {},
     "output_type": "execute_result"
    }
   ],
   "source": [
    "labels['image_name']=[f\"input{x}\" for x in range(0,len(labels))]\n",
    "labels"
   ]
  },
  {
   "cell_type": "code",
   "execution_count": 8,
   "metadata": {},
   "outputs": [
    {
     "data": {
      "text/html": [
       "<div>\n",
       "<style scoped>\n",
       "    .dataframe tbody tr th:only-of-type {\n",
       "        vertical-align: middle;\n",
       "    }\n",
       "\n",
       "    .dataframe tbody tr th {\n",
       "        vertical-align: top;\n",
       "    }\n",
       "\n",
       "    .dataframe thead th {\n",
       "        text-align: right;\n",
       "    }\n",
       "</style>\n",
       "<table border=\"1\" class=\"dataframe\">\n",
       "  <thead>\n",
       "    <tr style=\"text-align: right;\">\n",
       "      <th></th>\n",
       "      <th>Amplitudes</th>\n",
       "      <th>Frequencies</th>\n",
       "      <th>Daping coeffitients</th>\n",
       "      <th>Speeds</th>\n",
       "    </tr>\n",
       "  </thead>\n",
       "  <tbody>\n",
       "    <tr>\n",
       "      <th>count</th>\n",
       "      <td>100.000000</td>\n",
       "      <td>100.000000</td>\n",
       "      <td>100.000000</td>\n",
       "      <td>100.000000</td>\n",
       "    </tr>\n",
       "    <tr>\n",
       "      <th>mean</th>\n",
       "      <td>2.491123</td>\n",
       "      <td>123.824120</td>\n",
       "      <td>4.891195</td>\n",
       "      <td>-0.320947</td>\n",
       "    </tr>\n",
       "    <tr>\n",
       "      <th>std</th>\n",
       "      <td>1.516537</td>\n",
       "      <td>68.432395</td>\n",
       "      <td>2.607755</td>\n",
       "      <td>4.776358</td>\n",
       "    </tr>\n",
       "    <tr>\n",
       "      <th>min</th>\n",
       "      <td>0.152405</td>\n",
       "      <td>17.777114</td>\n",
       "      <td>0.481182</td>\n",
       "      <td>-7.851334</td>\n",
       "    </tr>\n",
       "    <tr>\n",
       "      <th>25%</th>\n",
       "      <td>1.035943</td>\n",
       "      <td>62.571286</td>\n",
       "      <td>2.580401</td>\n",
       "      <td>-3.813275</td>\n",
       "    </tr>\n",
       "    <tr>\n",
       "      <th>50%</th>\n",
       "      <td>2.630638</td>\n",
       "      <td>120.850451</td>\n",
       "      <td>5.214697</td>\n",
       "      <td>-1.191793</td>\n",
       "    </tr>\n",
       "    <tr>\n",
       "      <th>75%</th>\n",
       "      <td>3.876328</td>\n",
       "      <td>183.038364</td>\n",
       "      <td>6.886415</td>\n",
       "      <td>3.592089</td>\n",
       "    </tr>\n",
       "    <tr>\n",
       "      <th>max</th>\n",
       "      <td>4.895953</td>\n",
       "      <td>236.906330</td>\n",
       "      <td>9.873786</td>\n",
       "      <td>7.976486</td>\n",
       "    </tr>\n",
       "  </tbody>\n",
       "</table>\n",
       "</div>"
      ],
      "text/plain": [
       "       Amplitudes  Frequencies  Daping coeffitients      Speeds\n",
       "count  100.000000   100.000000           100.000000  100.000000\n",
       "mean     2.491123   123.824120             4.891195   -0.320947\n",
       "std      1.516537    68.432395             2.607755    4.776358\n",
       "min      0.152405    17.777114             0.481182   -7.851334\n",
       "25%      1.035943    62.571286             2.580401   -3.813275\n",
       "50%      2.630638   120.850451             5.214697   -1.191793\n",
       "75%      3.876328   183.038364             6.886415    3.592089\n",
       "max      4.895953   236.906330             9.873786    7.976486"
      ]
     },
     "execution_count": 8,
     "metadata": {},
     "output_type": "execute_result"
    }
   ],
   "source": [
    "labels.describe()"
   ]
  },
  {
   "cell_type": "code",
   "execution_count": 9,
   "metadata": {},
   "outputs": [
    {
     "data": {
      "text/plain": [
       "array([[<AxesSubplot:title={'center':'Amplitudes'}>,\n",
       "        <AxesSubplot:title={'center':'Frequencies'}>],\n",
       "       [<AxesSubplot:title={'center':'Daping coeffitients'}>,\n",
       "        <AxesSubplot:title={'center':'Speeds'}>]], dtype=object)"
      ]
     },
     "execution_count": 9,
     "metadata": {},
     "output_type": "execute_result"
    },
    {
     "data": {
      "image/png": "[encoded data removed]",
      "text/plain": [
       "<Figure size 720x720 with 4 Axes>"
      ]
     },
     "metadata": {
      "needs_background": "light"
     },
     "output_type": "display_data"
    }
   ],
   "source": [
    "labels.hist(figsize=(10,10))"
   ]
  },
  {
   "cell_type": "markdown",
   "metadata": {},
   "source": [
    "### Generate data"
   ]
  },
  {
   "cell_type": "code",
   "execution_count": 10,
   "metadata": {},
   "outputs": [
    {
     "name": "stdout",
     "output_type": "stream",
     "text": [
      "fatal: docelowa ścieżka „Algorithm_of_peak_picking” już istnieje i nie jest pustym katalogiem.\r\n"
     ]
    }
   ],
   "source": [
    "!git clone https://github.com/DahanDaniel/Algorithm_of_peak_picking.git"
   ]
  },
  {
   "cell_type": "code",
   "execution_count": 2,
   "metadata": {},
   "outputs": [],
   "source": [
    "import sys\n",
    "sys.path.insert(0, 'Algorithm_of_peak_picking')"
   ]
  },
  {
   "cell_type": "code",
   "execution_count": 3,
   "metadata": {},
   "outputs": [
    {
     "name": "stdout",
     "output_type": "stream",
     "text": [
      "/home/anna_s/Ania/UW/projekty/NMR/predict_param_NMR/Algorithm_of_peak_picking\n",
      "Już aktualne.\n",
      "/home/anna_s/Ania/UW/projekty/NMR/predict_param_NMR\n"
     ]
    }
   ],
   "source": [
    "%cd Algorithm_of_peak_picking/\n",
    "!git pull\n",
    "%cd .."
   ]
  },
  {
   "cell_type": "code",
   "execution_count": 4,
   "metadata": {},
   "outputs": [],
   "source": [
    "import copy\n",
    "from sys import exit\n",
    "import os\n",
    "\n",
    "import numpy as np\n",
    "# from google.colab import files\n",
    "\n",
    "from Algorithm_of_peak_picking.RadonClass import *"
   ]
  },
  {
   "cell_type": "code",
   "execution_count": 69,
   "metadata": {},
   "outputs": [],
   "source": [
    "ITERATIONS = 200\n",
    "\n",
    "NO_SERIES  = 20\n",
    "RESOLUTION = 2**8 # number of points describing spectra\n",
    "\n",
    "DWMIN, DWMAX, DDW = -10, 10, .01 # Domain of rates of change\n",
    "\n",
    "MAX_NO_PEAKS = 1"
   ]
  },
  {
   "cell_type": "code",
   "execution_count": 70,
   "metadata": {},
   "outputs": [],
   "source": [
    "def create_random_data(max_no_peaks):\n",
    "    # Draw a random number of peaks between 1 and max_no_peaks.\n",
    "    N = np.random.randint(1, max_no_peaks+1)\n",
    "\n",
    "    # Randomize peaks' parameters.\n",
    "    amplitudes = np.random.uniform(.1, 5, N)\n",
    "    frequencies = np.random.uniform(10, RESOLUTION - 10, N)\n",
    "    damping_coeffs = np.random.uniform(0.1, 10, N)\n",
    "    speeds = np.random.uniform(-8, 8, N)\n",
    "\n",
    "    # Draw signal-to-noise ratio; set to 0 if no noise should be added.\n",
    "    snr = np.random.uniform(10, 100) # 0 # \n",
    "\n",
    "    params = Params(amplitudes,\n",
    "                    frequencies,\n",
    "                    damping_coeffs,\n",
    "                    speeds,\n",
    "                    NO_SERIES,\n",
    "                    RESOLUTION,\n",
    "                    snr)\n",
    "    \n",
    "    radon_instance = Radon(params, DWMIN, DWMAX, DDW, 'Params')\n",
    "\n",
    "    # Create input dataframe containing radon spectra of the input parameters.\n",
    "    # Columns represent the frequency dimention,\n",
    "    # rows represent the Radon (speeds) dimention.\n",
    "    input_array = radon_instance.complex_Radon.real\n",
    "\n",
    "    # Create output dataframe.\n",
    "    output_df = pd.DataFrame({\n",
    "        'Amplitudes': amplitudes,\n",
    "        'Frequencies': frequencies,\n",
    "        'Daping coeffitients': damping_coeffs,\n",
    "        'Speeds': speeds\n",
    "    })\n",
    "    # output_df['SNR'] = snr # not included in fitting\n",
    "\n",
    "    return input_array, output_df"
   ]
  },
  {
   "cell_type": "code",
   "execution_count": 71,
   "metadata": {},
   "outputs": [],
   "source": [
    "def generate_dataset():\n",
    "    X_ds = []\n",
    "    df_y = pd.DataFrame()\n",
    "    for i in range(ITERATIONS):\n",
    "        input_array, output_df = create_random_data(MAX_NO_PEAKS)\n",
    "        X_ds.append(input_array)\n",
    "        df_y=df_y.append(pd.DataFrame(output_df))\n",
    "    X_array = np.array(X_ds)\n",
    "    return X_array, df_y"
   ]
  },
  {
   "cell_type": "code",
   "execution_count": 72,
   "metadata": {},
   "outputs": [],
   "source": [
    "data_X, data_y = generate_dataset()"
   ]
  },
  {
   "cell_type": "code",
   "execution_count": 73,
   "metadata": {},
   "outputs": [
    {
     "data": {
      "text/plain": [
       "array([[[ 4.42267194e+00,  4.57144633e+00,  4.46966947e+00, ...,\n",
       "          4.40743995e+00,  4.34149643e+00,  4.36898768e+00],\n",
       "        [ 4.40339539e+00,  4.56842842e+00,  4.43688682e+00, ...,\n",
       "          4.42884061e+00,  4.34328179e+00,  4.35218109e+00],\n",
       "        [ 4.40291494e+00,  4.57140422e+00,  4.42941895e+00, ...,\n",
       "          4.44981214e+00,  4.36267615e+00,  4.36507551e+00],\n",
       "        ...,\n",
       "        [ 3.09519272e+00,  3.13621437e+00,  3.19118603e+00, ...,\n",
       "          2.89616550e+00,  3.04465049e+00,  3.20320802e+00],\n",
       "        [ 3.08594448e+00,  3.11586421e+00,  3.18435838e+00, ...,\n",
       "          2.94152725e+00,  3.01741376e+00,  3.19893437e+00],\n",
       "        [ 3.09918290e+00,  3.11723555e+00,  3.17942912e+00, ...,\n",
       "          3.01682175e+00,  3.03388809e+00,  3.20663201e+00]],\n",
       "\n",
       "       [[ 2.34669246e+00,  2.52381639e+00,  8.80109540e-01, ...,\n",
       "          2.01994055e+00,  3.96904190e+00,  2.21805438e+00],\n",
       "        [ 2.03668928e+00,  2.32928111e+00,  8.05971171e-01, ...,\n",
       "          1.87847429e+00,  3.33127296e+00,  2.50194997e+00],\n",
       "        [ 1.87363110e+00,  2.36652584e+00,  1.11378937e+00, ...,\n",
       "          2.09632666e+00,  2.60992433e+00,  2.87575134e+00],\n",
       "        ...,\n",
       "        [ 2.59759593e+01,  3.06951086e+01,  3.74573852e+01, ...,\n",
       "          3.98306279e+01,  3.03614981e+01,  2.69792494e+01],\n",
       "        [ 2.61093584e+01,  3.05790304e+01,  3.85718529e+01, ...,\n",
       "          3.91362949e+01,  2.94291115e+01,  2.67964987e+01],\n",
       "        [ 2.62791408e+01,  3.03818278e+01,  3.96982080e+01, ...,\n",
       "          3.87467902e+01,  2.87820189e+01,  2.66120717e+01]],\n",
       "\n",
       "       [[ 3.40929218e+00,  2.61931189e+00,  3.71645490e+00, ...,\n",
       "         -9.40003822e-01, -5.51403221e-01, -2.06080153e+00],\n",
       "        [ 2.74406258e+00,  2.80570833e+00,  3.91980837e+00, ...,\n",
       "         -6.45141857e-01, -7.85154391e-01, -2.52443367e+00],\n",
       "        [ 1.61597379e+00,  2.52464654e+00,  3.69170419e+00, ...,\n",
       "          2.60252771e-02, -7.23891918e-01, -2.19316214e+00],\n",
       "        ...,\n",
       "        [ 6.90273092e+00,  5.39746382e+00,  6.02119357e+00, ...,\n",
       "          7.91147100e+00,  9.21039112e+00,  8.16854120e+00],\n",
       "        [ 7.86413213e+00,  4.21935046e+00,  5.92251765e+00, ...,\n",
       "          7.39789054e+00,  9.88232135e+00,  8.69656515e+00],\n",
       "        [ 8.99088589e+00,  3.88958225e+00,  5.86476551e+00, ...,\n",
       "          6.54325012e+00,  1.01024770e+01,  8.97302138e+00]],\n",
       "\n",
       "       ...,\n",
       "\n",
       "       [[ 2.15989066e-02,  2.78223225e-01, -2.61459704e-01, ...,\n",
       "          4.67784463e-01,  2.71431151e-01,  5.10726249e-02],\n",
       "        [ 8.96987058e-02,  4.48351750e-01, -2.28741536e-01, ...,\n",
       "          5.02000303e-01,  3.33617298e-01,  7.05732082e-02],\n",
       "        [ 1.21217378e-01,  5.65103280e-01, -1.08233545e-01, ...,\n",
       "          4.74141153e-01,  3.30595473e-01,  7.37624293e-02],\n",
       "        ...,\n",
       "        [ 1.78260951e+00,  1.59396080e+00,  1.70338634e+00, ...,\n",
       "          2.63866718e+00,  2.11781687e+00,  2.42725156e+00],\n",
       "        [ 1.81177280e+00,  1.62417342e+00,  1.79151500e+00, ...,\n",
       "          2.59616727e+00,  1.97122964e+00,  2.43919522e+00],\n",
       "        [ 1.77441244e+00,  1.61648745e+00,  1.79143202e+00, ...,\n",
       "          2.52163891e+00,  1.84379494e+00,  2.31560431e+00]],\n",
       "\n",
       "       [[ 7.35963229e+00,  6.71074770e-01,  5.80509611e+00, ...,\n",
       "         -3.40570851e+00,  4.99295986e+00, -4.74489662e+00],\n",
       "        [ 2.75735639e+00,  8.83745599e-01,  3.12404924e+00, ...,\n",
       "         -4.27305139e+00,  3.45908163e+00, -4.95022782e+00],\n",
       "        [-1.56363715e+00,  1.72581233e+00,  1.30108629e+00, ...,\n",
       "         -3.32004265e+00,  2.02744917e+00, -2.79394021e+00],\n",
       "        ...,\n",
       "        [ 7.78055823e+00,  1.58915101e+01,  2.08066007e+01, ...,\n",
       "          5.19219821e+00,  1.35752390e+01,  1.45315770e+01],\n",
       "        [ 1.03392067e+01,  1.17257002e+01,  2.20580297e+01, ...,\n",
       "          6.94747351e+00,  1.24348641e+01,  1.26369974e+01],\n",
       "        [ 1.47185534e+01,  9.71323978e+00,  2.37991564e+01, ...,\n",
       "          1.04844098e+01,  1.42056685e+01,  1.17963393e+01]],\n",
       "\n",
       "       [[ 6.89845771e+00,  5.50185126e+00,  2.86759745e+00, ...,\n",
       "          2.23224252e+01,  1.38711548e+01,  8.18637927e+00],\n",
       "        [ 5.93994724e+00,  5.19094653e+00,  3.28153501e+00, ...,\n",
       "          1.90902818e+01,  1.26021714e+01,  7.27935175e+00],\n",
       "        [ 4.93452061e+00,  4.38276471e+00,  3.54846705e+00, ...,\n",
       "          1.64378417e+01,  1.15196165e+01,  6.63757057e+00],\n",
       "        ...,\n",
       "        [ 5.99692770e+01,  3.00320155e+01,  1.83656058e+01, ...,\n",
       "          2.29286529e+01,  4.23678578e+01,  7.58757699e+01],\n",
       "        [ 5.76373294e+01,  2.84652812e+01,  1.78182354e+01, ...,\n",
       "          2.37425058e+01,  4.43335500e+01,  7.80773345e+01],\n",
       "        [ 5.56699107e+01,  2.73336360e+01,  1.74152265e+01, ...,\n",
       "          2.46616430e+01,  4.61858073e+01,  7.96936382e+01]]])"
      ]
     },
     "execution_count": 73,
     "metadata": {},
     "output_type": "execute_result"
    }
   ],
   "source": [
    "data_X"
   ]
  },
  {
   "cell_type": "markdown",
   "metadata": {},
   "source": [
    "### Preprocessing data"
   ]
  },
  {
   "cell_type": "code",
   "execution_count": 74,
   "metadata": {},
   "outputs": [
    {
     "data": {
      "text/plain": [
       "9968.919671656113"
      ]
     },
     "execution_count": 74,
     "metadata": {},
     "output_type": "execute_result"
    }
   ],
   "source": [
    "# normalization data\n",
    "maxValue = np.amax(data_X)\n",
    "maxValue"
   ]
  },
  {
   "cell_type": "code",
   "execution_count": 75,
   "metadata": {},
   "outputs": [],
   "source": [
    "data_X /= maxValue"
   ]
  },
  {
   "cell_type": "code",
   "execution_count": 76,
   "metadata": {},
   "outputs": [
    {
     "data": {
      "text/plain": [
       "1.0"
      ]
     },
     "execution_count": 76,
     "metadata": {},
     "output_type": "execute_result"
    }
   ],
   "source": [
    "np.amax(data_X)"
   ]
  },
  {
   "cell_type": "code",
   "execution_count": 77,
   "metadata": {},
   "outputs": [
    {
     "data": {
      "text/html": [
       "<div>\n",
       "<style scoped>\n",
       "    .dataframe tbody tr th:only-of-type {\n",
       "        vertical-align: middle;\n",
       "    }\n",
       "\n",
       "    .dataframe tbody tr th {\n",
       "        vertical-align: top;\n",
       "    }\n",
       "\n",
       "    .dataframe thead th {\n",
       "        text-align: right;\n",
       "    }\n",
       "</style>\n",
       "<table border=\"1\" class=\"dataframe\">\n",
       "  <thead>\n",
       "    <tr style=\"text-align: right;\">\n",
       "      <th></th>\n",
       "      <th>Amplitudes</th>\n",
       "      <th>Frequencies</th>\n",
       "      <th>Daping coeffitients</th>\n",
       "      <th>Speeds</th>\n",
       "    </tr>\n",
       "  </thead>\n",
       "  <tbody>\n",
       "    <tr>\n",
       "      <th>0</th>\n",
       "      <td>0.323100</td>\n",
       "      <td>204.556780</td>\n",
       "      <td>8.850823</td>\n",
       "      <td>-1.098736</td>\n",
       "    </tr>\n",
       "    <tr>\n",
       "      <th>0</th>\n",
       "      <td>3.333680</td>\n",
       "      <td>43.506317</td>\n",
       "      <td>2.257785</td>\n",
       "      <td>0.205683</td>\n",
       "    </tr>\n",
       "    <tr>\n",
       "      <th>0</th>\n",
       "      <td>0.904119</td>\n",
       "      <td>50.068788</td>\n",
       "      <td>7.567267</td>\n",
       "      <td>-4.653666</td>\n",
       "    </tr>\n",
       "    <tr>\n",
       "      <th>0</th>\n",
       "      <td>3.797014</td>\n",
       "      <td>80.752043</td>\n",
       "      <td>7.452471</td>\n",
       "      <td>5.883374</td>\n",
       "    </tr>\n",
       "    <tr>\n",
       "      <th>0</th>\n",
       "      <td>0.146631</td>\n",
       "      <td>176.460934</td>\n",
       "      <td>9.097296</td>\n",
       "      <td>1.356246</td>\n",
       "    </tr>\n",
       "    <tr>\n",
       "      <th>...</th>\n",
       "      <td>...</td>\n",
       "      <td>...</td>\n",
       "      <td>...</td>\n",
       "      <td>...</td>\n",
       "    </tr>\n",
       "    <tr>\n",
       "      <th>0</th>\n",
       "      <td>0.473301</td>\n",
       "      <td>231.474442</td>\n",
       "      <td>5.206822</td>\n",
       "      <td>6.113158</td>\n",
       "    </tr>\n",
       "    <tr>\n",
       "      <th>0</th>\n",
       "      <td>2.161222</td>\n",
       "      <td>123.869427</td>\n",
       "      <td>2.137199</td>\n",
       "      <td>-5.200996</td>\n",
       "    </tr>\n",
       "    <tr>\n",
       "      <th>0</th>\n",
       "      <td>0.255517</td>\n",
       "      <td>41.990358</td>\n",
       "      <td>5.301563</td>\n",
       "      <td>-5.493614</td>\n",
       "    </tr>\n",
       "    <tr>\n",
       "      <th>0</th>\n",
       "      <td>3.582740</td>\n",
       "      <td>58.488889</td>\n",
       "      <td>1.491188</td>\n",
       "      <td>-3.307837</td>\n",
       "    </tr>\n",
       "    <tr>\n",
       "      <th>0</th>\n",
       "      <td>2.387967</td>\n",
       "      <td>73.802036</td>\n",
       "      <td>1.278148</td>\n",
       "      <td>-0.677999</td>\n",
       "    </tr>\n",
       "  </tbody>\n",
       "</table>\n",
       "<p>200 rows × 4 columns</p>\n",
       "</div>"
      ],
      "text/plain": [
       "    Amplitudes  Frequencies  Daping coeffitients    Speeds\n",
       "0     0.323100   204.556780             8.850823 -1.098736\n",
       "0     3.333680    43.506317             2.257785  0.205683\n",
       "0     0.904119    50.068788             7.567267 -4.653666\n",
       "0     3.797014    80.752043             7.452471  5.883374\n",
       "0     0.146631   176.460934             9.097296  1.356246\n",
       "..         ...          ...                  ...       ...\n",
       "0     0.473301   231.474442             5.206822  6.113158\n",
       "0     2.161222   123.869427             2.137199 -5.200996\n",
       "0     0.255517    41.990358             5.301563 -5.493614\n",
       "0     3.582740    58.488889             1.491188 -3.307837\n",
       "0     2.387967    73.802036             1.278148 -0.677999\n",
       "\n",
       "[200 rows x 4 columns]"
      ]
     },
     "execution_count": 77,
     "metadata": {},
     "output_type": "execute_result"
    }
   ],
   "source": [
    "data_y"
   ]
  },
  {
   "cell_type": "code",
   "execution_count": 78,
   "metadata": {},
   "outputs": [
    {
     "data": {
      "text/plain": [
       "(200, 4)"
      ]
     },
     "execution_count": 78,
     "metadata": {},
     "output_type": "execute_result"
    }
   ],
   "source": [
    "data_y.shape"
   ]
  },
  {
   "cell_type": "code",
   "execution_count": 79,
   "metadata": {},
   "outputs": [
    {
     "data": {
      "text/plain": [
       "(200, 2000, 256)"
      ]
     },
     "execution_count": 79,
     "metadata": {},
     "output_type": "execute_result"
    }
   ],
   "source": [
    "# reshape data\n",
    "data_X.shape"
   ]
  },
  {
   "cell_type": "code",
   "execution_count": 80,
   "metadata": {},
   "outputs": [
    {
     "data": {
      "text/plain": [
       "'channels_last'"
      ]
     },
     "execution_count": 80,
     "metadata": {},
     "output_type": "execute_result"
    }
   ],
   "source": [
    "K.image_data_format()"
   ]
  },
  {
   "cell_type": "code",
   "execution_count": 81,
   "metadata": {},
   "outputs": [
    {
     "name": "stdout",
     "output_type": "stream",
     "text": [
      "(200, 2000, 256, 1)\n"
     ]
    }
   ],
   "source": [
    "img_rows, img_cols = 2000, 256\n",
    "\n",
    "if K.image_data_format() == 'channels_last':\n",
    "    data_X = data_X.reshape(data_X.shape[0], img_rows, img_cols, 1)\n",
    "    input_shape = (img_rows, img_cols, 1)\n",
    "else:\n",
    "    data_X = data_X.reshape(X_train.shape[0], 1, img_rows, img_cols)\n",
    "    input_shape = (1, img_rows, img_cols)\n",
    "    \n",
    "print(data_X.shape)"
   ]
  },
  {
   "cell_type": "code",
   "execution_count": 82,
   "metadata": {},
   "outputs": [
    {
     "data": {
      "text/plain": [
       "(200, 2000, 256, 1)"
      ]
     },
     "execution_count": 82,
     "metadata": {},
     "output_type": "execute_result"
    }
   ],
   "source": [
    "input_shape = data_X.shape\n",
    "input_shape"
   ]
  },
  {
   "cell_type": "code",
   "execution_count": 83,
   "metadata": {},
   "outputs": [],
   "source": [
    "X_train, X_test, y_train, y_test = train_test_split(data_X, data_y, test_size=0.3)"
   ]
  },
  {
   "cell_type": "markdown",
   "metadata": {},
   "source": [
    "### Build the model CNN"
   ]
  },
  {
   "cell_type": "code",
   "execution_count": 84,
   "metadata": {},
   "outputs": [],
   "source": [
    "def get_triple_cnn():\n",
    "    return Sequential([\n",
    "        Conv2D(32, kernel_size=(3, 3), activation='relu', padding='same'),\n",
    "        Conv2D(32, kernel_size=(3, 3), activation='relu'),\n",
    "        MaxPool2D(pool_size=(2, 2)),\n",
    "        Dropout(0.25), \n",
    "\n",
    "        Conv2D(64, kernel_size=(3, 3), activation='relu', padding='same',),\n",
    "        Conv2D(64, kernel_size=(3, 3), activation='relu'),\n",
    "        MaxPool2D(pool_size=(2, 2)),\n",
    "        Dropout(0.25),\n",
    "\n",
    "        Conv2D(128, kernel_size=(3, 3), activation='relu', padding='same',),\n",
    "        Conv2D(128, kernel_size=(3, 3), activation='relu'),\n",
    "        MaxPool2D(pool_size=(2, 2)),\n",
    "        Dropout(0.25),\n",
    "\n",
    "        Flatten(),\n",
    "\n",
    "        Dense(128, activation='relu'),\n",
    "        Dropout(0.5),\n",
    "        Dense(4)\n",
    "    ])"
   ]
  },
  {
   "cell_type": "code",
   "execution_count": 85,
   "metadata": {},
   "outputs": [],
   "source": [
    "model = get_triple_cnn()\n",
    "model.compile(loss='mean_squared_error', optimizer='Adam', metrics=['mae'])"
   ]
  },
  {
   "cell_type": "markdown",
   "metadata": {},
   "source": [
    "### Epochs and Batch Size"
   ]
  },
  {
   "cell_type": "code",
   "execution_count": 87,
   "metadata": {},
   "outputs": [],
   "source": [
    "epochs = 10\n",
    "batch_size = 20"
   ]
  },
  {
   "cell_type": "markdown",
   "metadata": {},
   "source": [
    "### Fit the model"
   ]
  },
  {
   "cell_type": "code",
   "execution_count": 88,
   "metadata": {},
   "outputs": [
    {
     "data": {
      "image/png": "[encoded data removed]",
      "text/plain": [
       "<Figure size 864x576 with 2 Axes>"
      ]
     },
     "metadata": {
      "needs_background": "light"
     },
     "output_type": "display_data"
    },
    {
     "name": "stdout",
     "output_type": "stream",
     "text": [
      "Loss\n",
      "\ttraining         \t (min: 1375.320, max: 3861.408, cur: 1460.252)\n",
      "\tvalidation       \t (min: 1143.082, max: 2569.461, cur: 1144.883)\n",
      "mae\n",
      "\ttraining         \t (min:   23.109, max:   34.214, cur:   23.315)\n",
      "\tvalidation       \t (min:   16.939, max:   24.582, cur:   17.361)\n"
     ]
    }
   ],
   "source": [
    "%%time\n",
    "plot_losses = PlotLossesKeras()\n",
    "\n",
    "history = model.fit(X_train, y_train,\n",
    "  batch_size=batch_size, epochs=epochs,\n",
    "  verbose=2,\n",
    "  callbacks=[plot_losses],\n",
    "  validation_data=(X_test, y_test))"
   ]
  },
  {
   "cell_type": "code",
   "execution_count": 89,
   "metadata": {},
   "outputs": [
    {
     "name": "stdout",
     "output_type": "stream",
     "text": [
      "Model: \"sequential_1\"\n",
      "_________________________________________________________________\n",
      "Layer (type)                 Output Shape              Param #   \n",
      "=================================================================\n",
      "conv2d_6 (Conv2D)            (20, 2000, 256, 32)       320       \n",
      "_________________________________________________________________\n",
      "conv2d_7 (Conv2D)            (20, 1998, 254, 32)       9248      \n",
      "_________________________________________________________________\n",
      "max_pooling2d_3 (MaxPooling2 (20, 999, 127, 32)        0         \n",
      "_________________________________________________________________\n",
      "dropout_4 (Dropout)          (20, 999, 127, 32)        0         \n",
      "_________________________________________________________________\n",
      "conv2d_8 (Conv2D)            (20, 999, 127, 64)        18496     \n",
      "_________________________________________________________________\n",
      "conv2d_9 (Conv2D)            (20, 997, 125, 64)        36928     \n",
      "_________________________________________________________________\n",
      "max_pooling2d_4 (MaxPooling2 (20, 498, 62, 64)         0         \n",
      "_________________________________________________________________\n",
      "dropout_5 (Dropout)          (20, 498, 62, 64)         0         \n",
      "_________________________________________________________________\n",
      "conv2d_10 (Conv2D)           (20, 498, 62, 128)        73856     \n",
      "_________________________________________________________________\n",
      "conv2d_11 (Conv2D)           (20, 496, 60, 128)        147584    \n",
      "_________________________________________________________________\n",
      "max_pooling2d_5 (MaxPooling2 (20, 248, 30, 128)        0         \n",
      "_________________________________________________________________\n",
      "dropout_6 (Dropout)          (20, 248, 30, 128)        0         \n",
      "_________________________________________________________________\n",
      "flatten_1 (Flatten)          (20, 952320)              0         \n",
      "_________________________________________________________________\n",
      "dense_2 (Dense)              (20, 128)                 121897088 \n",
      "_________________________________________________________________\n",
      "dropout_7 (Dropout)          (20, 128)                 0         \n",
      "_________________________________________________________________\n",
      "dense_3 (Dense)              (20, 4)                   516       \n",
      "=================================================================\n",
      "Total params: 122,184,036\n",
      "Trainable params: 122,184,036\n",
      "Non-trainable params: 0\n",
      "_________________________________________________________________\n"
     ]
    }
   ],
   "source": [
    "model.summary()"
   ]
  },
  {
   "cell_type": "markdown",
   "metadata": {},
   "source": [
    "### Evaluate model"
   ]
  },
  {
   "cell_type": "code",
   "execution_count": 90,
   "metadata": {},
   "outputs": [
    {
     "name": "stdout",
     "output_type": "stream",
     "text": [
      "Test loss: 1144.88330078125\n",
      "Test mae: 17.361265182495117\n"
     ]
    }
   ],
   "source": [
    "score = model.evaluate(X_test, y_test, verbose=0)\n",
    "print('Test loss:', score[0])\n",
    "print('Test mae:', score[1])\n"
   ]
  },
  {
   "cell_type": "code",
   "execution_count": 91,
   "metadata": {},
   "outputs": [],
   "source": [
    "def draw_learning_curve(history, key='mae', ylim=(0.8, 1.01)):\n",
    "    plt.figure(figsize=(12,6))\n",
    "    plt.plot(history.history[key])\n",
    "    plt.plot(history.history['val_' + key])\n",
    "    plt.title('Learning Curve')\n",
    "    plt.ylabel(key.title())\n",
    "    plt.xlabel('Epoch')\n",
    "    plt.ylim(ylim)\n",
    "    plt.legend(['train', 'test'], loc='best')\n",
    "    plt.show()"
   ]
  },
  {
   "cell_type": "code",
   "execution_count": 96,
   "metadata": {},
   "outputs": [
    {
     "data": {
      "image/png": "[encoded data removed]",
      "text/plain": [
       "<Figure size 864x432 with 1 Axes>"
      ]
     },
     "metadata": {
      "needs_background": "light"
     },
     "output_type": "display_data"
    }
   ],
   "source": [
    "draw_learning_curve(history, 'mae', ylim=(0, 40))"
   ]
  },
  {
   "cell_type": "code",
   "execution_count": 101,
   "metadata": {},
   "outputs": [
    {
     "data": {
      "image/png": "[encoded data removed]",
      "text/plain": [
       "<Figure size 864x432 with 1 Axes>"
      ]
     },
     "metadata": {
      "needs_background": "light"
     },
     "output_type": "display_data"
    }
   ],
   "source": [
    "draw_learning_curve(history, 'loss', ylim=(0, 4000))"
   ]
  },
  {
   "cell_type": "markdown",
   "metadata": {},
   "source": [
    "### Make predictions"
   ]
  },
  {
   "cell_type": "code",
   "execution_count": 102,
   "metadata": {},
   "outputs": [],
   "source": [
    "y_pred = model.predict(X_test)"
   ]
  },
  {
   "cell_type": "code",
   "execution_count": 107,
   "metadata": {},
   "outputs": [],
   "source": [
    "# x_ax = range(len(y_test))\n",
    "# plt.plot(x_ax, y_test.iloc[:,0], label=\"original\")\n",
    "# plt.plot(x_ax, y_pred[:,0], label=\"predicted\")\n",
    "# plt.title(\"Amplitudes test and predicted data\")\n",
    "# plt.legend()\n",
    "# plt.show()"
   ]
  },
  {
   "cell_type": "code",
   "execution_count": 108,
   "metadata": {},
   "outputs": [],
   "source": [
    "# x_ax = range(len(y_test))\n",
    "# plt.plot(x_ax, y_test.iloc[:,1], label=\"original\")\n",
    "# plt.plot(x_ax, y_pred[:,1], label=\"predicted\")\n",
    "# plt.title(\"Frequencies test and predicted data\")\n",
    "# plt.legend()\n",
    "# plt.show()"
   ]
  },
  {
   "cell_type": "code",
   "execution_count": 109,
   "metadata": {},
   "outputs": [],
   "source": [
    "# x_ax = range(len(y_test))\n",
    "# plt.plot(x_ax, y_test.iloc[:,2], label=\"original\")\n",
    "# plt.plot(x_ax, y_pred[:,2], label=\"predicted\")\n",
    "# plt.title(\"Daping_coeffi test and predicted data\")\n",
    "# plt.legend()\n",
    "# plt.show()"
   ]
  },
  {
   "cell_type": "code",
   "execution_count": 110,
   "metadata": {},
   "outputs": [],
   "source": [
    "# x_ax = range(len(y_test))\n",
    "# plt.plot(x_ax, y_test.iloc[:,3], label=\"original\")\n",
    "# plt.plot(x_ax, y_pred[:,3], label=\"predicted\")\n",
    "# plt.title(\"Speeds test and predicted data\")\n",
    "# plt.legend()\n",
    "# plt.show()"
   ]
  },
  {
   "cell_type": "code",
   "execution_count": null,
   "metadata": {},
   "outputs": [],
   "source": []
  }
 ],
 "metadata": {
  "kernelspec": {
   "display_name": "Python 3",
   "language": "python",
   "name": "python3"
  },
  "language_info": {
   "codemirror_mode": {
    "name": "ipython",
    "version": 3
   },
   "file_extension": ".py",
   "mimetype": "text/x-python",
   "name": "python",
   "nbconvert_exporter": "python",
   "pygments_lexer": "ipython3",
   "version": "3.8.5"
  }
 },
 "nbformat": 4,
 "nbformat_minor": 4
}
